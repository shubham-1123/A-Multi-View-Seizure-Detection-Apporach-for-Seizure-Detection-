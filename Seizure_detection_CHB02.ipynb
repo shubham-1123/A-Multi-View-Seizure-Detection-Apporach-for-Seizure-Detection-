{
  "cells": [
    {
      "cell_type": "code",
      "execution_count": null,
      "metadata": {
        "id": "CkrhCfn4GvxZ",
        "colab": {
          "base_uri": "https://localhost:8080/"
        },
        "outputId": "1c77a611-c084-4aa9-ce1d-784cba8e84d7"
      },
      "outputs": [
        {
          "output_type": "stream",
          "name": "stdout",
          "text": [
            "Collecting pyEDFlib\n",
            "  Downloading pyEDFlib-0.1.28-cp37-cp37m-manylinux_2_17_x86_64.manylinux2014_x86_64.whl (2.4 MB)\n",
            "\u001b[K     |████████████████████████████████| 2.4 MB 4.3 MB/s \n",
            "\u001b[?25hRequirement already satisfied: numpy>=1.9.1 in /usr/local/lib/python3.7/dist-packages (from pyEDFlib) (1.21.5)\n",
            "Installing collected packages: pyEDFlib\n",
            "Successfully installed pyEDFlib-0.1.28\n"
          ]
        }
      ],
      "source": [
        "! pip install pyEDFlib"
      ]
    },
    {
      "cell_type": "code",
      "execution_count": null,
      "metadata": {
        "colab": {
          "base_uri": "https://localhost:8080/"
        },
        "id": "dmttkHoYa8tY",
        "outputId": "bd26ced3-f479-48fc-b884-86ca7f9e728b"
      },
      "outputs": [
        {
          "output_type": "stream",
          "name": "stdout",
          "text": [
            "Thu Mar 17 06:45:27 2022       \n",
            "+-----------------------------------------------------------------------------+\n",
            "| NVIDIA-SMI 460.32.03    Driver Version: 460.32.03    CUDA Version: 11.2     |\n",
            "|-------------------------------+----------------------+----------------------+\n",
            "| GPU  Name        Persistence-M| Bus-Id        Disp.A | Volatile Uncorr. ECC |\n",
            "| Fan  Temp  Perf  Pwr:Usage/Cap|         Memory-Usage | GPU-Util  Compute M. |\n",
            "|                               |                      |               MIG M. |\n",
            "|===============================+======================+======================|\n",
            "|   0  Tesla P100-PCIE...  Off  | 00000000:00:04.0 Off |                    0 |\n",
            "| N/A   36C    P0    25W / 250W |      0MiB / 16280MiB |      0%      Default |\n",
            "|                               |                      |                  N/A |\n",
            "+-------------------------------+----------------------+----------------------+\n",
            "                                                                               \n",
            "+-----------------------------------------------------------------------------+\n",
            "| Processes:                                                                  |\n",
            "|  GPU   GI   CI        PID   Type   Process name                  GPU Memory |\n",
            "|        ID   ID                                                   Usage      |\n",
            "|=============================================================================|\n",
            "|  No running processes found                                                 |\n",
            "+-----------------------------------------------------------------------------+\n"
          ]
        }
      ],
      "source": [
        "!nvidia-smi"
      ]
    },
    {
      "cell_type": "code",
      "execution_count": null,
      "metadata": {
        "id": "5MN1OapfHcQe"
      },
      "outputs": [],
      "source": [
        "import pyedflib\n",
        "import numpy as np\n",
        "from scipy import signal\n",
        "from scipy.signal import butter, lfilter\n",
        "import matplotlib.pyplot as plt\n",
        "from datetime import datetime, timedelta\n",
        "import os\n",
        "import warnings \n",
        "import random\n",
        "import collections\n",
        "from PIL import Image\n",
        "from numpy.random import seed \n",
        "\n",
        "warnings.filterwarnings(\"ignore\")"
      ]
    },
    {
      "cell_type": "code",
      "execution_count": null,
      "metadata": {
        "id": "nxlzEjIyHkqT"
      },
      "outputs": [],
      "source": [
        "from scipy.signal import butter, sosfilt, sosfreqz"
      ]
    },
    {
      "cell_type": "markdown",
      "source": [
        "**butter woth bandpass function**"
      ],
      "metadata": {
        "id": "oHfGcaBSWlkx"
      }
    },
    {
      "cell_type": "code",
      "execution_count": null,
      "metadata": {
        "id": "m0X0h9n7Hkzx"
      },
      "outputs": [],
      "source": [
        "def butter_bandpass(lowcut, highcut, fs, order=5):\n",
        "        nyq = 0.5 * fs\n",
        "        low = lowcut / nyq\n",
        "        high = highcut / nyq\n",
        "        sos = butter(order, [low, high], analog=False, btype='band', output='sos')\n",
        "        return sos"
      ]
    },
    {
      "cell_type": "code",
      "execution_count": null,
      "metadata": {
        "id": "9MQyBrM8HsFl"
      },
      "outputs": [],
      "source": [
        "def butter_bandpass_filter(data, lowcut, highcut, fs, order=5):\n",
        "        sos = butter_bandpass(lowcut, highcut, fs, order=order)\n",
        "        y = sosfilt(sos, data)\n",
        "        return y"
      ]
    },
    {
      "cell_type": "markdown",
      "source": [
        "**setting the frequency**"
      ],
      "metadata": {
        "id": "hKuWhpAYWs2O"
      }
    },
    {
      "cell_type": "code",
      "execution_count": null,
      "metadata": {
        "id": "9ar6Ac8LHu9-"
      },
      "outputs": [],
      "source": [
        "lowcut = 0.5\n",
        "highcut = 30\n",
        "fs = 256"
      ]
    },
    {
      "cell_type": "code",
      "execution_count": null,
      "metadata": {
        "id": "906rnLGuHy4X"
      },
      "outputs": [],
      "source": [
        "pathDataSet = '/content/drive/MyDrive/chb_02/'\n",
        "patients = [\"02\"]"
      ]
    },
    {
      "cell_type": "code",
      "execution_count": null,
      "metadata": {
        "id": "5HKHvhjpIGQO"
      },
      "outputs": [],
      "source": [
        "def loadSummaryPatient(index):\n",
        "  f = open(pathDataSet+'chb'+patients[index]+'/chb'+patients[index]+'-summary.txt', 'r')\n",
        "  parent = 'chb'+patients[index]+'/'\n",
        "  return f, parent"
      ]
    },
    {
      "cell_type": "markdown",
      "source": [
        "**create the image dataset for time domain**"
      ],
      "metadata": {
        "id": "I4xjA6BvWxar"
      }
    },
    {
      "cell_type": "code",
      "execution_count": null,
      "metadata": {
        "id": "LLhMCSf0IJES"
      },
      "outputs": [],
      "source": [
        "def createDataset():\n",
        "\n",
        "    print(\"START \\n\")\n",
        "    for indexPatient in range(0, len(patients)):\n",
        "        # fileList = []\n",
        "    \n",
        "        f, parent = loadSummaryPatient(indexPatient)\n",
        "        line=f.readline()\n",
        "        while (line):\n",
        "            data=line.split(':')\n",
        "            if (data[0]==\"File Name\"):\n",
        "                name_F=data[1].strip()\n",
        "                print(name_F)\n",
        "                for i in range(3):\n",
        "                    line=f.readline()\n",
        "                for j in range(0, int(line.split(': ')[1])):\n",
        "                    secSt=int(f.readline().split(': ')[1].split(' ')[0])\n",
        "                    secEn=int(f.readline().split(': ')[1].split(' ')[0])\n",
        "                    seizureImageGenerate(secSt, secEn, name_F, parent)\n",
        "\n",
        "            line=f.readline()\n",
        "        f.close()\n",
        "\n",
        "    print(\"END \\n\")"
      ]
    },
    {
      "cell_type": "markdown",
      "source": [
        "**function to generate time images**"
      ],
      "metadata": {
        "id": "xg-nwYmJXEFv"
      }
    },
    {
      "cell_type": "code",
      "execution_count": null,
      "metadata": {
        "id": "X4dYb7R-IP6Z"
      },
      "outputs": [],
      "source": [
        "def seizureImageGenerate(secSt, secEn, name_F, parent):\n",
        "  file1 = pyedflib.EdfReader(pathDataSet+parent+name_F)\n",
        "  n = file1.signals_in_file\n",
        "  # print(n)\n",
        "  signal_labels = file1.getSignalLabels()\n",
        "  signal_headers = file1.getSignalHeaders()\n",
        "  rate = signal_headers[0]['sample_rate']\n",
        "  dur = file1.getFileDuration()\n",
        "  x = np.zeros((n, file1.getNSamples()[0]))\n",
        "  for i in range(n):\n",
        "    x[i,:] = file1.readSignal(i)\n",
        "    # print(x)\n",
        "    label = file1.getLabel(i)\n",
        "  file1.close()\n",
        "  x_filter = butter_bandpass_filter(x ,lowcut , highcut , fs , order = 5)\n",
        "  #a = os.getcwd()\n",
        "  path = '/content/mix_images/'+ parent\n",
        "  if os.path.isdir(path) is not True:\n",
        "    os.makedirs(path)\n",
        "  picnum = int(dur*rate/256)\n",
        "  for i in range(picnum):\n",
        "    img = x_filter[:,i*256:(i+1)*256]\n",
        "    Img = Image.fromarray(np.uint8(img))\n",
        "    if secSt <= i+1 <= secEn: #window size is 1sec\n",
        "      filename = '_time_seizure_'+ str(i)\n",
        "      Img.save(path + name_F.split('.')[0] + filename+'.jpg')\n",
        "    else:\n",
        "      filename = '_time_nonseizure_'+ str(i)\n",
        "      Img.save(path + name_F.split('.')[0] + filename+'.jpg')"
      ]
    },
    {
      "cell_type": "code",
      "execution_count": null,
      "metadata": {
        "colab": {
          "base_uri": "https://localhost:8080/"
        },
        "id": "VDlHhvhDIZnp",
        "outputId": "c66aac7a-c3be-42b7-8619-125d5c7378d4"
      },
      "outputs": [
        {
          "output_type": "stream",
          "name": "stdout",
          "text": [
            "START \n",
            "\n",
            "chb02_01.edf\n",
            "chb02_02.edf\n",
            "chb02_03.edf\n",
            "chb02_04.edf\n",
            "chb02_05.edf\n",
            "chb02_06.edf\n",
            "chb02_07.edf\n",
            "chb02_08.edf\n",
            "chb02_09.edf\n",
            "chb02_10.edf\n",
            "chb02_11.edf\n",
            "chb02_12.edf\n",
            "chb02_13.edf\n",
            "chb02_14.edf\n",
            "chb02_15.edf\n",
            "chb02_16.edf\n",
            "chb02_16+.edf\n",
            "chb02_17.edf\n",
            "chb02_18.edf\n",
            "chb02_19.edf\n",
            "chb02_20.edf\n",
            "chb02_21.edf\n",
            "chb02_22.edf\n",
            "chb02_23.edf\n",
            "chb02_24.edf\n",
            "chb02_25.edf\n",
            "chb02_26.edf\n",
            "chb02_27.edf\n",
            "chb02_28.edf\n",
            "chb02_29.edf\n",
            "chb02_30.edf\n",
            "chb02_31.edf\n",
            "chb02_32.edf\n",
            "chb02_33.edf\n",
            "chb02_34.edf\n",
            "chb02_35.edf\n",
            "END \n",
            "\n"
          ]
        }
      ],
      "source": [
        "createDataset()"
      ]
    },
    {
      "cell_type": "markdown",
      "source": [
        "**function to generate frequency images**"
      ],
      "metadata": {
        "id": "zIOWg09zW_yw"
      }
    },
    {
      "cell_type": "code",
      "execution_count": null,
      "metadata": {
        "id": "7Z2ZOdIVIu71"
      },
      "outputs": [],
      "source": [
        "def seizureImageGenerate_freq(secSt, secEn, name_F, parent):\n",
        "  file1 = pyedflib.EdfReader(pathDataSet+parent+name_F)\n",
        "  n = file1.signals_in_file\n",
        "  # print(n)\n",
        "  signal_labels = file1.getSignalLabels()\n",
        "  signal_headers = file1.getSignalHeaders()\n",
        "  rate = signal_headers[0]['sample_rate']\n",
        "  dur = file1.getFileDuration()\n",
        "  x = np.zeros((n, file1.getNSamples()[0]))\n",
        "  for i in range(n):\n",
        "    x[i,:] = file1.readSignal(i)\n",
        "    # print(x)\n",
        "    label = file1.getLabel(i)\n",
        "  file1.close()\n",
        "  x_filter = butter_bandpass_filter(x ,lowcut , highcut , fs , order = 5)\n",
        "  dft = np.fft.fft(x_filter, axis=1)\n",
        "  #a = os.getcwd()\n",
        "  path = '/content/mix_images/'+ parent\n",
        "  if os.path.isdir(path) is not True:\n",
        "    os.makedirs(path)\n",
        "  picnum = int(dur*rate/256)\n",
        "  for i in range(picnum):\n",
        "    img = dft[:,i*256:(i+1)*256]\n",
        "    Img = Image.fromarray(np.uint8(img))\n",
        "    if secSt <= i+1 <= secEn: #window size of 1sec\n",
        "      filename = '_freq_seizure_'+ str(i)\n",
        "      Img.save(path + name_F.split('.')[0] + filename+'.jpg')\n",
        "    else:\n",
        "      filename = '_freq_nonseizure_'+ str(i)\n",
        "      Img.save(path + name_F.split('.')[0] + filename+'.jpg')"
      ]
    },
    {
      "cell_type": "markdown",
      "source": [
        "**create the image dataset for frequency domain**"
      ],
      "metadata": {
        "id": "IRfRMlMoW3qZ"
      }
    },
    {
      "cell_type": "code",
      "execution_count": null,
      "metadata": {
        "id": "MuEWyW4fI551"
      },
      "outputs": [],
      "source": [
        "def createDataset_freq():\n",
        "\n",
        "    print(\"START \\n\")\n",
        "    for indexPatient in range(0, len(patients)):\n",
        "        # fileList = []\n",
        "    \n",
        "        f, parent = loadSummaryPatient(indexPatient)\n",
        "        line=f.readline()\n",
        "        while (line):\n",
        "            data=line.split(':')\n",
        "            if (data[0]==\"File Name\"):\n",
        "                name_F=data[1].strip()\n",
        "                print(name_F)\n",
        "                for i in range(3):\n",
        "                    line=f.readline()\n",
        "                for j in range(0, int(line.split(': ')[1])):\n",
        "                    secSt=int(f.readline().split(': ')[1].split(' ')[0])\n",
        "                    secEn=int(f.readline().split(': ')[1].split(' ')[0])\n",
        "                    seizureImageGenerate_freq(secSt, secEn, name_F, parent)\n",
        "\n",
        "            line=f.readline()\n",
        "        f.close()\n",
        "\n",
        "    print(\"END \\n\")"
      ]
    },
    {
      "cell_type": "code",
      "execution_count": null,
      "metadata": {
        "colab": {
          "base_uri": "https://localhost:8080/"
        },
        "id": "QMm3jVuwI-Kw",
        "outputId": "c0fb1a48-8316-4f39-905c-d65794dc74df"
      },
      "outputs": [
        {
          "output_type": "stream",
          "name": "stdout",
          "text": [
            "START \n",
            "\n",
            "chb02_01.edf\n",
            "chb02_02.edf\n",
            "chb02_03.edf\n",
            "chb02_04.edf\n",
            "chb02_05.edf\n",
            "chb02_06.edf\n",
            "chb02_07.edf\n",
            "chb02_08.edf\n",
            "chb02_09.edf\n",
            "chb02_10.edf\n",
            "chb02_11.edf\n",
            "chb02_12.edf\n",
            "chb02_13.edf\n",
            "chb02_14.edf\n",
            "chb02_15.edf\n",
            "chb02_16.edf\n",
            "chb02_16+.edf\n",
            "chb02_17.edf\n",
            "chb02_18.edf\n",
            "chb02_19.edf\n",
            "chb02_20.edf\n",
            "chb02_21.edf\n",
            "chb02_22.edf\n",
            "chb02_23.edf\n",
            "chb02_24.edf\n",
            "chb02_25.edf\n",
            "chb02_26.edf\n",
            "chb02_27.edf\n",
            "chb02_28.edf\n",
            "chb02_29.edf\n",
            "chb02_30.edf\n",
            "chb02_31.edf\n",
            "chb02_32.edf\n",
            "chb02_33.edf\n",
            "chb02_34.edf\n",
            "chb02_35.edf\n",
            "END \n",
            "\n"
          ]
        }
      ],
      "source": [
        "createDataset_freq()"
      ]
    },
    {
      "cell_type": "code",
      "execution_count": null,
      "metadata": {
        "id": "v5gnj3yEKvDd"
      },
      "outputs": [],
      "source": [
        "import tensorflow\n",
        "from tensorflow import keras \n",
        "from tensorflow.keras.models import Sequential\n",
        "from tensorflow.keras.layers import Dropout, Dense, Activation, Flatten, LSTM, Bidirectional, ConvLSTM2D\n",
        "from tensorflow.keras.layers import Conv2D, MaxPooling2D,GlobalMaxPooling2D, BatchNormalization, TimeDistributed, SimpleRNN, GRU\n",
        "from tensorflow.keras.optimizers import SGD\n",
        "from tensorflow.keras.backend import clear_session"
      ]
    },
    {
      "cell_type": "code",
      "execution_count": null,
      "metadata": {
        "id": "jGX2qYe0K0Pu"
      },
      "outputs": [],
      "source": [
        "from tensorflow.keras.utils import Sequence\n",
        "from sklearn.model_selection import train_test_split\n",
        "from sklearn.metrics import accuracy_score, confusion_matrix, f1_score, roc_curve, auc, fbeta_score"
      ]
    },
    {
      "cell_type": "markdown",
      "source": [
        "**Data Loader**"
      ],
      "metadata": {
        "id": "sD1PfAJsXRSQ"
      }
    },
    {
      "cell_type": "code",
      "execution_count": null,
      "metadata": {
        "id": "KFtRThEkK3TD"
      },
      "outputs": [],
      "source": [
        "def generatePathList(patients, test_size):\n",
        "    parent_path = '/content/mix_images/'\n",
        "    pathList = []\n",
        "    for indexPatient in range(0, len(patients)):\n",
        "        sub_path = 'chb'+patients[indexPatient]+'/'\n",
        "        directory_name = parent_path+sub_path\n",
        "        for filename in os.listdir(directory_name):\n",
        "            pathList.append(directory_name+filename)\n",
        "    L = len(pathList)\n",
        "    test_index = int(L*test_size)\n",
        "    index = random.sample(range(L), L)\n",
        "    return index[:test_index],index[test_index:],pathList\n",
        "\n",
        "class DataGenerator(Sequence):\n",
        "\n",
        "    def __init__(self, index, pathList, parent_path = '/content/mix_images/', batch_size=32):\n",
        "        self.batch_size = batch_size\n",
        "        self.parent_path = parent_path\n",
        "        self.pathList = pathList\n",
        "        self.index = index\n",
        "        self.L = len(self.index)\n",
        "\n",
        "\n",
        "    def __len__(self):\n",
        "        return self.L - self.batch_size\n",
        "\n",
        "    def __getitem__(self, idx):\n",
        "        batch_indexs = self.index[idx:(idx+self.batch_size)]\n",
        "        image_path = [self.pathList[k] for k in batch_indexs]\n",
        "    \n",
        "        return self._load_image(image_path)\n",
        "\n",
        "  \n",
        "    def _load_image(self, image_path):\n",
        "        features = np.zeros(((len(image_path)),23,256))\n",
        "        labels = np.zeros((len(image_path)),dtype=int)\n",
        "        i = 0 #the feature index\n",
        "        for name in image_path:\n",
        "            #print(name)\n",
        "            if '_seizure_' in name:\n",
        "                features[i] = np.array(Image.open(name))[0:23,:]\n",
        "                labels[i] = 1\n",
        "            elif '_nonseizure_' in name:\n",
        "                features[i] = np.array(Image.open(name))[0:23,:]\n",
        "                labels[i] = 0\n",
        "            i = i+1\n",
        "        #print(features)\n",
        "        #print(labels)\n",
        "        #print(np.expand_dims(np.array(features), axis=3).shape)\n",
        "        #print(labels.shape)\n",
        "        return np.expand_dims(np.array(features), axis=3),labels"
      ]
    },
    {
      "cell_type": "code",
      "execution_count": null,
      "metadata": {
        "id": "M214wt0NK_0O"
      },
      "outputs": [],
      "source": [
        "model = Sequential()\n",
        "\n",
        "model.add(Conv2D(64, (2, 4), input_shape=((23, 256, 1))))\n",
        "model.add(BatchNormalization())\n",
        "model.add(Activation('relu'))\n",
        "model.add(MaxPooling2D(pool_size=(1, 4)))\n",
        "model.add(Dropout(0.15))\n",
        "\n",
        "model.add(Conv2D(32, (2, 4)))\n",
        "model.add(BatchNormalization())\n",
        "model.add(Activation('relu'))\n",
        "model.add(MaxPooling2D(pool_size=(1, 4)))\n",
        "model.add(Dropout(0.15))\n",
        "\n",
        "model.add(Conv2D(32, (2, 4)))\n",
        "model.add(BatchNormalization())\n",
        "model.add(Activation('relu'))\n",
        "model.add(MaxPooling2D(pool_size=(1, 4)))\n",
        "model.add(Dropout(0.15))\n",
        "\n",
        "model.add(TimeDistributed(Flatten()))\n",
        "model.add(Bidirectional(GRU(32)))\n",
        "model.add(Dropout(0.15))\n",
        "\n",
        "model.add(Dense(32, activation='relu'))\n",
        "model.add(Dense(1, activation='sigmoid'))\n",
        "\n",
        "sgd = SGD(lr=0.0001, decay=1e-6, momentum=0.9, nesterov=True)\n",
        "model.compile(metrics=['accuracy',keras.metrics.Recall(name='sen')], \n",
        "              loss='binary_crossentropy', optimizer= 'sgd')"
      ]
    },
    {
      "cell_type": "markdown",
      "metadata": {
        "id": "uCygYdMAQ9qy"
      },
      "source": [
        "**Time Domain Images**"
      ]
    },
    {
      "cell_type": "code",
      "execution_count": null,
      "metadata": {
        "id": "X9e4vPmTLE_V"
      },
      "outputs": [],
      "source": [
        "test_id, train_id, path_list = generatePathList(patients,test_size=0.3) # 30% test_size \n",
        "train_data = DataGenerator(train_id, path_list)\n",
        "test_data  =  DataGenerator(test_id, path_list)"
      ]
    },
    {
      "cell_type": "code",
      "execution_count": null,
      "metadata": {
        "colab": {
          "base_uri": "https://localhost:8080/"
        },
        "id": "2SA3VwgILgrW",
        "outputId": "48aefcbe-cd30-438f-c5f2-25b6d39aa942"
      },
      "outputs": [
        {
          "data": {
            "text/plain": [
              "5680"
            ]
          },
          "execution_count": 24,
          "metadata": {},
          "output_type": "execute_result"
        }
      ],
      "source": [
        "len(train_data)"
      ]
    },
    {
      "cell_type": "code",
      "execution_count": null,
      "metadata": {
        "colab": {
          "base_uri": "https://localhost:8080/"
        },
        "id": "jtEKYl6DLkf7",
        "outputId": "820edddb-bc60-4422-b1b5-7e39f71ede72"
      },
      "outputs": [
        {
          "data": {
            "text/plain": [
              "2415"
            ]
          },
          "execution_count": 25,
          "metadata": {},
          "output_type": "execute_result"
        }
      ],
      "source": [
        "len(test_data)"
      ]
    },
    {
      "cell_type": "code",
      "execution_count": null,
      "metadata": {
        "id": "mO-PP6ycLnv8"
      },
      "outputs": [],
      "source": [
        "from tensorflow.keras.callbacks import EarlyStopping\n",
        "early_stop = EarlyStopping(monitor='val_loss', patience=100)"
      ]
    },
    {
      "cell_type": "code",
      "execution_count": null,
      "metadata": {
        "colab": {
          "base_uri": "https://localhost:8080/"
        },
        "id": "Bqvbho_9LvF1",
        "outputId": "1511d487-0449-451d-fed8-d9eed34e6f7a"
      },
      "outputs": [
        {
          "name": "stdout",
          "output_type": "stream",
          "text": [
            "Epoch 1/10\n",
            "5680/5680 [==============================] - 194s 32ms/step - loss: 0.0796 - accuracy: 0.9866 - sen: 0.9911 - val_loss: 0.0278 - val_accuracy: 0.9910 - val_sen: 0.9636\n",
            "Epoch 2/10\n",
            "5680/5680 [==============================] - 178s 31ms/step - loss: 0.0311 - accuracy: 0.9960 - sen: 0.9961 - val_loss: 0.0215 - val_accuracy: 0.9942 - val_sen: 0.8909\n",
            "Epoch 3/10\n",
            "5680/5680 [==============================] - 185s 32ms/step - loss: 0.0180 - accuracy: 0.9973 - sen: 0.9977 - val_loss: 0.0161 - val_accuracy: 0.9954 - val_sen: 0.9636\n",
            "Epoch 4/10\n",
            "5680/5680 [==============================] - 179s 31ms/step - loss: 0.0184 - accuracy: 0.9970 - sen: 0.9979 - val_loss: 0.0181 - val_accuracy: 0.9950 - val_sen: 0.9636\n",
            "Epoch 5/10\n",
            "5680/5680 [==============================] - 178s 31ms/step - loss: 0.0103 - accuracy: 0.9983 - sen: 0.9979 - val_loss: 0.0144 - val_accuracy: 0.9967 - val_sen: 0.9455\n",
            "Epoch 6/10\n",
            "5680/5680 [==============================] - 178s 31ms/step - loss: 0.0059 - accuracy: 0.9989 - sen: 0.9995 - val_loss: 0.0173 - val_accuracy: 0.9963 - val_sen: 0.9273\n",
            "Epoch 7/10\n",
            "5680/5680 [==============================] - 213s 37ms/step - loss: 0.0096 - accuracy: 0.9985 - sen: 0.9992 - val_loss: 0.0198 - val_accuracy: 0.9959 - val_sen: 0.9455\n",
            "Epoch 8/10\n",
            "5680/5680 [==============================] - 185s 32ms/step - loss: 0.0068 - accuracy: 0.9988 - sen: 0.9995 - val_loss: 0.0155 - val_accuracy: 0.9971 - val_sen: 0.9455\n",
            "Epoch 9/10\n",
            "5680/5680 [==============================] - 182s 32ms/step - loss: 0.0039 - accuracy: 0.9992 - sen: 0.9995 - val_loss: 0.0189 - val_accuracy: 0.9975 - val_sen: 0.9455\n",
            "Epoch 10/10\n",
            "5680/5680 [==============================] - 185s 33ms/step - loss: 0.0088 - accuracy: 0.9989 - sen: 0.9987 - val_loss: 0.0196 - val_accuracy: 0.9963 - val_sen: 0.9455\n"
          ]
        }
      ],
      "source": [
        "history = model.fit(train_data, epochs= 10, verbose=1, callbacks=[early_stop], steps_per_epoch=None, \n",
        "                    validation_data=test_data, class_weight={0:1, 1:50}, workers=4, use_multiprocessing=True,\n",
        "                    shuffle=False, initial_epoch=0)"
      ]
    },
    {
      "cell_type": "code",
      "execution_count": null,
      "metadata": {
        "id": "YDvZE7g8QZky"
      },
      "outputs": [],
      "source": [
        "model.save_weights('/content/drive/MyDrive/eeg_time_domain_image/model_weights_time_chb02.h5')\n",
        "model.save('/content/drive/MyDrive/eeg_time_domain_image/model_keras_time_chb02.h5')"
      ]
    },
    {
      "cell_type": "code",
      "execution_count": null,
      "metadata": {
        "colab": {
          "base_uri": "https://localhost:8080/"
        },
        "id": "qMEuXswkQsMa",
        "outputId": "cd2ba325-483a-43fe-d057-f88a3be0b23b"
      },
      "outputs": [
        {
          "name": "stdout",
          "output_type": "stream",
          "text": [
            "2415/2415 [==============================] - 39s 16ms/step - loss: 0.0196 - accuracy: 0.9963 - sen: 0.9455\n"
          ]
        },
        {
          "data": {
            "text/plain": [
              "[0.019609360024333, 0.9962732791900635, 0.9454545378684998]"
            ]
          },
          "execution_count": 29,
          "metadata": {},
          "output_type": "execute_result"
        }
      ],
      "source": [
        "model.evaluate(test_data, batch_size=32)"
      ]
    },
    {
      "cell_type": "code",
      "execution_count": null,
      "metadata": {
        "id": "BqrVUa0BQwiW"
      },
      "outputs": [],
      "source": [
        "y_pred = model.predict(test_data)\n",
        "y_pred = np.round(y_pred).astype(int)\n",
        "y_val = []\n",
        "for i in range(len(test_data)):\n",
        "  list_val = list(test_data[i])\n",
        "  y_val = np.hstack((y_val,list_val[1]))"
      ]
    },
    {
      "cell_type": "code",
      "execution_count": null,
      "metadata": {
        "colab": {
          "base_uri": "https://localhost:8080/"
        },
        "id": "s9qQEF-6Qyw8",
        "outputId": "7e88e15d-05c7-4708-a527-a47e71ec7a4b"
      },
      "outputs": [
        {
          "name": "stdout",
          "output_type": "stream",
          "text": [
            "accuracy \t 0.9962732919254659\n",
            "sensitivity \t 0.9454545454545454\n",
            "specificity \t 0.997457627118644\n",
            "F1-score \t 0.920353982300885\n"
          ]
        }
      ],
      "source": [
        "tn, fp, fn, tp = confusion_matrix(y_val, y_pred).ravel()\n",
        "print('accuracy \\t', accuracy_score(y_val, y_pred))\n",
        "sensitivity = int(tp)/int(tp+fn)\n",
        "print('sensitivity \\t', sensitivity)\n",
        "specificity = int(tn)/int(fp+tn)\n",
        "print('specificity \\t', specificity)\n",
        "print('F1-score \\t', f1_score(y_val, y_pred))"
      ]
    },
    {
      "cell_type": "code",
      "execution_count": null,
      "metadata": {
        "colab": {
          "base_uri": "https://localhost:8080/",
          "height": 294
        },
        "id": "otE2dJ0gQ3YJ",
        "outputId": "7d08f009-d2d1-4377-f116-8b6211a58d60"
      },
      "outputs": [
        {
          "data": {
            "image/png": "[encoded data removed]",
            "text/plain": [
              "<Figure size 432x288 with 1 Axes>"
            ]
          },
          "metadata": {},
          "output_type": "display_data"
        }
      ],
      "source": [
        "plt.plot(history.history['loss'])\n",
        "plt.plot(history.history['val_loss'])\n",
        "plt.title('Model loss')\n",
        "plt.ylabel('Loss')\n",
        "plt.xlabel('Epoch')\n",
        "plt.legend(['Train', 'Val'], loc='upper right')\n",
        "plt.show()"
      ]
    },
    {
      "cell_type": "code",
      "execution_count": null,
      "metadata": {
        "colab": {
          "base_uri": "https://localhost:8080/",
          "height": 294
        },
        "id": "MPMWqlvGQ4lW",
        "outputId": "42ea7f33-2f32-46e6-c3cb-4ef0a7526c70"
      },
      "outputs": [
        {
          "data": {
            "image/png": "[encoded data removed]",
            "text/plain": [
              "<Figure size 432x288 with 1 Axes>"
            ]
          },
          "metadata": {},
          "output_type": "display_data"
        }
      ],
      "source": [
        "plt.plot(history.history['accuracy'])\n",
        "plt.plot(history.history['val_accuracy'])\n",
        "plt.title('Model accuracy')\n",
        "plt.ylabel('Accuracy')\n",
        "plt.xlabel('Epoch')\n",
        "plt.legend(['Train', 'Val'], loc='lower right')\n",
        "plt.show()"
      ]
    },
    {
      "cell_type": "markdown",
      "metadata": {
        "id": "0VP7B-z0RDIE"
      },
      "source": [
        "**Freq domain images**"
      ]
    },
    {
      "cell_type": "code",
      "execution_count": null,
      "metadata": {
        "id": "fY-6IkKORJdA"
      },
      "outputs": [],
      "source": [
        "test_id, train_id, path_list = generatePathList(patients,test_size=0.3) # 30% test_size \n",
        "train_data = DataGenerator(train_id, path_list)\n",
        "test_data  =  DataGenerator(test_id, path_list)"
      ]
    },
    {
      "cell_type": "code",
      "execution_count": null,
      "metadata": {
        "colab": {
          "base_uri": "https://localhost:8080/"
        },
        "id": "EctQIokVUp-N",
        "outputId": "4808158f-dbb0-43b8-9702-b51848f1f0b1"
      },
      "outputs": [
        {
          "data": {
            "text/plain": [
              "5680"
            ]
          },
          "execution_count": 43,
          "metadata": {},
          "output_type": "execute_result"
        }
      ],
      "source": [
        "len(train_data)"
      ]
    },
    {
      "cell_type": "code",
      "execution_count": null,
      "metadata": {
        "colab": {
          "base_uri": "https://localhost:8080/"
        },
        "id": "th-v8tsHUsJD",
        "outputId": "2ffde1e0-828c-4c53-f070-aeca93904b41"
      },
      "outputs": [
        {
          "data": {
            "text/plain": [
              "2415"
            ]
          },
          "execution_count": 44,
          "metadata": {},
          "output_type": "execute_result"
        }
      ],
      "source": [
        "len(test_data)"
      ]
    },
    {
      "cell_type": "code",
      "execution_count": null,
      "metadata": {
        "id": "5GP5TsWDU23J"
      },
      "outputs": [],
      "source": [
        "from tensorflow.keras.callbacks import EarlyStopping\n",
        "early_stop = EarlyStopping(monitor='val_loss', patience=100)"
      ]
    },
    {
      "cell_type": "code",
      "execution_count": null,
      "metadata": {
        "colab": {
          "base_uri": "https://localhost:8080/"
        },
        "id": "X9aj3k6KU50Z",
        "outputId": "c0363b9e-a518-4593-d840-3214db8d19d7"
      },
      "outputs": [
        {
          "name": "stdout",
          "output_type": "stream",
          "text": [
            "Epoch 1/10\n",
            "5680/5680 [==============================] - 192s 34ms/step - loss: 0.3536 - accuracy: 0.9308 - sen: 0.9459 - val_loss: 0.1039 - val_accuracy: 0.9766 - val_sen: 0.0000e+00\n",
            "Epoch 2/10\n",
            "5680/5680 [==============================] - 194s 34ms/step - loss: 0.2114 - accuracy: 0.9729 - sen: 0.9553 - val_loss: 0.1646 - val_accuracy: 0.9417 - val_sen: 0.1061\n",
            "Epoch 3/10\n",
            "5680/5680 [==============================] - 186s 33ms/step - loss: 0.1369 - accuracy: 0.9815 - sen: 0.9726 - val_loss: 0.1056 - val_accuracy: 0.9720 - val_sen: 0.0177\n",
            "Epoch 4/10\n",
            "5680/5680 [==============================] - 190s 33ms/step - loss: 0.1016 - accuracy: 0.9858 - sen: 0.9782 - val_loss: 0.1110 - val_accuracy: 0.9694 - val_sen: 0.0884\n",
            "Epoch 5/10\n",
            "5680/5680 [==============================] - 186s 33ms/step - loss: 0.0811 - accuracy: 0.9878 - sen: 0.9833 - val_loss: 0.1161 - val_accuracy: 0.9711 - val_sen: 0.0708\n",
            "Epoch 6/10\n",
            "5680/5680 [==============================] - 189s 33ms/step - loss: 0.0639 - accuracy: 0.9887 - sen: 0.9874 - val_loss: 0.1509 - val_accuracy: 0.9528 - val_sen: 0.0531\n",
            "Epoch 7/10\n",
            "5680/5680 [==============================] - 188s 33ms/step - loss: 0.0576 - accuracy: 0.9898 - sen: 0.9900 - val_loss: 0.1431 - val_accuracy: 0.9680 - val_sen: 0.0177\n",
            "Epoch 8/10\n",
            "5680/5680 [==============================] - 186s 33ms/step - loss: 0.0431 - accuracy: 0.9926 - sen: 0.9933 - val_loss: 0.1447 - val_accuracy: 0.9686 - val_sen: 0.0708\n",
            "Epoch 9/10\n",
            "5680/5680 [==============================] - 195s 34ms/step - loss: 0.0472 - accuracy: 0.9917 - sen: 0.9919 - val_loss: 0.1471 - val_accuracy: 0.9735 - val_sen: 0.0531\n",
            "Epoch 10/10\n",
            "5680/5680 [==============================] - 200s 35ms/step - loss: 0.0317 - accuracy: 0.9938 - sen: 0.9938 - val_loss: 0.1514 - val_accuracy: 0.9731 - val_sen: 0.0708\n"
          ]
        }
      ],
      "source": [
        "history = model.fit(train_data, epochs= 10, verbose=1, callbacks=[early_stop], steps_per_epoch=None, \n",
        "                    validation_data=test_data, class_weight={0:1, 1:50}, workers=4, use_multiprocessing=True,\n",
        "                    shuffle=False, initial_epoch=0)"
      ]
    },
    {
      "cell_type": "code",
      "execution_count": null,
      "metadata": {
        "id": "NgJ5BmAMbXb9"
      },
      "outputs": [],
      "source": [
        "model.save_weights('/content/drive/MyDrive/eeg_frequency_domain_image/model_weights_time_chb02.h5')\n",
        "model.save('/content/drive/MyDrive/eeg_frequency_domain_image/model_keras_time_chb02.h5')"
      ]
    },
    {
      "cell_type": "code",
      "execution_count": null,
      "metadata": {
        "colab": {
          "base_uri": "https://localhost:8080/"
        },
        "id": "fb8ot34obrgz",
        "outputId": "a7cac988-62c9-4559-c302-76d178464e8a"
      },
      "outputs": [
        {
          "name": "stdout",
          "output_type": "stream",
          "text": [
            "2415/2415 [==============================] - 43s 18ms/step - loss: 0.1514 - accuracy: 0.9731 - sen: 0.0708\n"
          ]
        },
        {
          "data": {
            "text/plain": [
              "[0.1514100879430771, 0.9731237292289734, 0.07075732201337814]"
            ]
          },
          "execution_count": 48,
          "metadata": {},
          "output_type": "execute_result"
        }
      ],
      "source": [
        "model.evaluate(test_data, batch_size=32)"
      ]
    },
    {
      "cell_type": "code",
      "execution_count": null,
      "metadata": {
        "id": "g-3szyo1buow"
      },
      "outputs": [],
      "source": [
        "y_pred = model.predict(test_data)\n",
        "y_pred = np.round(y_pred).astype(int)\n",
        "y_val = []\n",
        "for i in range(len(test_data)):\n",
        "  list_val = list(test_data[i])\n",
        "  y_val = np.hstack((y_val,list_val[1]))"
      ]
    },
    {
      "cell_type": "code",
      "source": [
        ""
      ],
      "metadata": {
        "id": "j4adWPDpyh-Q"
      },
      "execution_count": null,
      "outputs": []
    },
    {
      "cell_type": "code",
      "execution_count": null,
      "metadata": {
        "colab": {
          "base_uri": "https://localhost:8080/"
        },
        "id": "kRaS1XGkbuy6",
        "outputId": "73e07b85-f42d-4924-ce0c-3ceca045544e"
      },
      "outputs": [
        {
          "name": "stdout",
          "output_type": "stream",
          "text": [
            "accuracy \t 0.9731237060041408\n",
            "sensitivity \t 0.07075732448866777\n",
            "specificity \t 0.994752951464801\n",
            "F1-score \t 0.10972996142306045\n"
          ]
        }
      ],
      "source": [
        "tn, fp, fn, tp = confusion_matrix(y_val, y_pred).ravel()\n",
        "print('accuracy \\t', accuracy_score(y_val, y_pred))\n",
        "sensitivity = int(tp)/int(tp+fn)\n",
        "print('sensitivity \\t', sensitivity)\n",
        "specificity = int(tn)/int(fp+tn)\n",
        "print('specificity \\t', specificity)\n",
        "print('F1-score \\t', f1_score(y_val, y_pred))"
      ]
    },
    {
      "cell_type": "code",
      "execution_count": null,
      "metadata": {
        "colab": {
          "base_uri": "https://localhost:8080/",
          "height": 294
        },
        "id": "1CSufvwob26b",
        "outputId": "7c2185bb-31ee-45ec-fb69-541064e542b0"
      },
      "outputs": [
        {
          "data": {
            "image/png": "[encoded data removed]",
            "text/plain": [
              "<Figure size 432x288 with 1 Axes>"
            ]
          },
          "metadata": {},
          "output_type": "display_data"
        }
      ],
      "source": [
        "plt.plot(history.history['loss'])\n",
        "plt.plot(history.history['val_loss'])\n",
        "plt.title('Model loss')\n",
        "plt.ylabel('Loss')\n",
        "plt.xlabel('Epoch')\n",
        "plt.legend(['Train', 'Val'], loc='upper right')\n",
        "plt.show()"
      ]
    },
    {
      "cell_type": "code",
      "execution_count": null,
      "metadata": {
        "colab": {
          "base_uri": "https://localhost:8080/",
          "height": 294
        },
        "id": "K-y7Tfdyb57i",
        "outputId": "e24cfbfb-2310-40ab-accd-14b163462c26"
      },
      "outputs": [
        {
          "data": {
            "image/png": "[encoded data removed]",
            "text/plain": [
              "<Figure size 432x288 with 1 Axes>"
            ]
          },
          "metadata": {},
          "output_type": "display_data"
        }
      ],
      "source": [
        "plt.plot(history.history['accuracy'])\n",
        "plt.plot(history.history['val_accuracy'])\n",
        "plt.title('Model accuracy')\n",
        "plt.ylabel('Accuracy')\n",
        "plt.xlabel('Epoch')\n",
        "plt.legend(['Train', 'Val'], loc='lower right')\n",
        "plt.show()"
      ]
    },
    {
      "cell_type": "markdown",
      "metadata": {
        "id": "F50Dn7Ezctbc"
      },
      "source": [
        "**multi-view**"
      ]
    },
    {
      "cell_type": "code",
      "execution_count": null,
      "metadata": {
        "id": "NXHEItgAcs0Y"
      },
      "outputs": [],
      "source": [
        "test_id, train_id, path_list = generatePathList(patients,test_size=0.3) # 30% test_size \n",
        "train_data = DataGenerator(train_id, path_list)\n",
        "test_data  =  DataGenerator(test_id, path_list)"
      ]
    },
    {
      "cell_type": "code",
      "execution_count": null,
      "metadata": {
        "colab": {
          "base_uri": "https://localhost:8080/"
        },
        "id": "8GBTPIl3dwI5",
        "outputId": "9c4293f8-da2e-43fa-c1e2-6ff0718c2e2c"
      },
      "outputs": [
        {
          "output_type": "execute_result",
          "data": {
            "text/plain": [
              "11391"
            ]
          },
          "metadata": {},
          "execution_count": 22
        }
      ],
      "source": [
        "len(train_data)"
      ]
    },
    {
      "cell_type": "code",
      "execution_count": null,
      "metadata": {
        "colab": {
          "base_uri": "https://localhost:8080/"
        },
        "id": "Pt8KD2VmdzZB",
        "outputId": "db7ae798-fe19-4b56-e887-d5668994f7aa"
      },
      "outputs": [
        {
          "output_type": "execute_result",
          "data": {
            "text/plain": [
              "4863"
            ]
          },
          "metadata": {},
          "execution_count": 23
        }
      ],
      "source": [
        "len(test_data)"
      ]
    },
    {
      "cell_type": "code",
      "execution_count": null,
      "metadata": {
        "id": "9hRvGse0d1rS"
      },
      "outputs": [],
      "source": [
        "from tensorflow.keras.callbacks import EarlyStopping\n",
        "early_stop = EarlyStopping(monitor='val_loss', patience=100)"
      ]
    },
    {
      "cell_type": "code",
      "execution_count": null,
      "metadata": {
        "colab": {
          "base_uri": "https://localhost:8080/"
        },
        "id": "7r6dr53od8n1",
        "outputId": "c2e858d7-2346-4035-f363-89d41af85b05"
      },
      "outputs": [
        {
          "output_type": "stream",
          "name": "stdout",
          "text": [
            "Epoch 1/10\n",
            "11391/11391 [==============================] - 232s 19ms/step - loss: 0.2478 - accuracy: 0.9531 - sen: 0.9676 - val_loss: 0.0876 - val_accuracy: 0.9817 - val_sen: 0.2250\n",
            "Epoch 2/10\n",
            "11391/11391 [==============================] - 219s 19ms/step - loss: 0.1924 - accuracy: 0.9688 - sen: 0.9669 - val_loss: 0.0792 - val_accuracy: 0.9829 - val_sen: 0.4109\n",
            "Epoch 3/10\n",
            "11391/11391 [==============================] - 216s 19ms/step - loss: 0.1357 - accuracy: 0.9806 - sen: 0.9760 - val_loss: 0.0696 - val_accuracy: 0.9812 - val_sen: 0.4304\n",
            "Epoch 4/10\n",
            "11391/11391 [==============================] - 219s 19ms/step - loss: 0.1003 - accuracy: 0.9856 - sen: 0.9828 - val_loss: 0.0710 - val_accuracy: 0.9808 - val_sen: 0.4402\n",
            "Epoch 5/10\n",
            "11391/11391 [==============================] - 217s 19ms/step - loss: 0.0879 - accuracy: 0.9874 - sen: 0.9847 - val_loss: 0.0789 - val_accuracy: 0.9788 - val_sen: 0.4304\n",
            "Epoch 6/10\n",
            "11391/11391 [==============================] - 217s 19ms/step - loss: 0.0645 - accuracy: 0.9897 - sen: 0.9892 - val_loss: 0.0846 - val_accuracy: 0.9769 - val_sen: 0.4402\n",
            "Epoch 7/10\n",
            "11391/11391 [==============================] - 218s 19ms/step - loss: 0.0518 - accuracy: 0.9912 - sen: 0.9916 - val_loss: 0.0834 - val_accuracy: 0.9798 - val_sen: 0.4598\n",
            "Epoch 8/10\n",
            "11391/11391 [==============================] - 218s 19ms/step - loss: 0.0534 - accuracy: 0.9908 - sen: 0.9906 - val_loss: 0.0964 - val_accuracy: 0.9710 - val_sen: 0.4696\n",
            "Epoch 9/10\n",
            "11391/11391 [==============================] - 217s 19ms/step - loss: 0.0397 - accuracy: 0.9927 - sen: 0.9934 - val_loss: 0.0955 - val_accuracy: 0.9777 - val_sen: 0.4402\n",
            "Epoch 10/10\n",
            "11391/11391 [==============================] - 214s 19ms/step - loss: 0.0358 - accuracy: 0.9935 - sen: 0.9938 - val_loss: 0.0958 - val_accuracy: 0.9817 - val_sen: 0.4891\n"
          ]
        }
      ],
      "source": [
        "history = model.fit(train_data, epochs= 10, verbose=1, callbacks=[early_stop], steps_per_epoch=None, \n",
        "                    validation_data=test_data, class_weight={0:1, 1:50}, workers=4, use_multiprocessing=True,\n",
        "                    shuffle=False, initial_epoch=0)"
      ]
    },
    {
      "cell_type": "code",
      "source": [
        "model.evaluate(test_data, batch_size=32)"
      ],
      "metadata": {
        "colab": {
          "base_uri": "https://localhost:8080/"
        },
        "id": "h7U6625KycxO",
        "outputId": "a3fd3413-714a-442f-cc1b-3f17feb767b4"
      },
      "execution_count": null,
      "outputs": [
        {
          "output_type": "stream",
          "name": "stdout",
          "text": [
            "4863/4863 [==============================] - 47s 10ms/step - loss: 0.0958 - accuracy: 0.9817 - sen: 0.4891\n"
          ]
        },
        {
          "output_type": "execute_result",
          "data": {
            "text/plain": [
              "[0.09576421231031418, 0.9816535711288452, 0.48914703726768494]"
            ]
          },
          "metadata": {},
          "execution_count": 26
        }
      ]
    },
    {
      "cell_type": "code",
      "source": [
        "y_pred = model.predict(test_data)\n",
        "y_pred = np.round(y_pred).astype(int)\n",
        "y_val = []\n",
        "for i in range(len(test_data)):\n",
        "  list_val = list(test_data[i])\n",
        "  y_val = np.hstack((y_val,list_val[1]))"
      ],
      "metadata": {
        "id": "PS14qGZPyjY-"
      },
      "execution_count": null,
      "outputs": []
    },
    {
      "cell_type": "code",
      "source": [
        "tn, fp, fn, tp = confusion_matrix(y_val, y_pred).ravel()\n",
        "print('accuracy \\t', accuracy_score(y_val, y_pred))\n",
        "sensitivity = int(tp)/int(tp+fn)\n",
        "print('sensitivity \\t', sensitivity)\n",
        "specificity = int(tn)/int(fp+tn)\n",
        "print('specificity \\t', specificity)\n",
        "print('F1-score \\t', f1_score(y_val, y_pred))"
      ],
      "metadata": {
        "colab": {
          "base_uri": "https://localhost:8080/"
        },
        "id": "AmTQgbXjymF0",
        "outputId": "30d83f4b-25ea-4cd6-f165-4cdeea350f50"
      },
      "execution_count": null,
      "outputs": [
        {
          "output_type": "stream",
          "name": "stdout",
          "text": [
            "accuracy \t 0.9816535574748098\n",
            "sensitivity \t 0.4891470498318557\n",
            "specificity \t 0.9922281663329942\n",
            "F1-score \t 0.528488852188274\n"
          ]
        }
      ]
    },
    {
      "cell_type": "code",
      "source": [
        "plt.plot(history.history['loss'])\n",
        "plt.plot(history.history['val_loss'])\n",
        "plt.title('Model loss')\n",
        "plt.ylabel('Loss')\n",
        "plt.xlabel('Epoch')\n",
        "plt.legend(['Train', 'Val'], loc='upper right')\n",
        "plt.show()"
      ],
      "metadata": {
        "colab": {
          "base_uri": "https://localhost:8080/",
          "height": 294
        },
        "id": "XuYASyzbypGv",
        "outputId": "876ccea5-0afb-4f78-a43b-47193d36b056"
      },
      "execution_count": null,
      "outputs": [
        {
          "output_type": "display_data",
          "data": {
            "text/plain": [
              "<Figure size 432x288 with 1 Axes>"
            ],
            "image/png": "[encoded data removed]"
          },
          "metadata": {
            "needs_background": "light"
          }
        }
      ]
    },
    {
      "cell_type": "code",
      "source": [
        "plt.plot(history.history['accuracy'])\n",
        "plt.plot(history.history['val_accuracy'])\n",
        "plt.title('Model accuracy')\n",
        "plt.ylabel('Accuracy')\n",
        "plt.xlabel('Epoch')\n",
        "plt.legend(['Train', 'Val'], loc='lower right')\n",
        "plt.show()"
      ],
      "metadata": {
        "colab": {
          "base_uri": "https://localhost:8080/",
          "height": 294
        },
        "id": "wcRDkFsFysQZ",
        "outputId": "3e94476d-dff0-4167-f185-f05982bb0bae"
      },
      "execution_count": null,
      "outputs": [
        {
          "output_type": "display_data",
          "data": {
            "text/plain": [
              "<Figure size 432x288 with 1 Axes>"
            ],
            "image/png": "[encoded data removed]"
          },
          "metadata": {
            "needs_background": "light"
          }
        }
      ]
    }
  ],
  "metadata": {
    "accelerator": "GPU",
    "colab": {
      "machine_shape": "hm",
      "name": "Seizure_detection_CHB02.ipynb",
      "provenance": []
    },
    "kernelspec": {
      "display_name": "Python 3",
      "name": "python3"
    },
    "language_info": {
      "name": "python"
    }
  },
  "nbformat": 4,
  "nbformat_minor": 0
}