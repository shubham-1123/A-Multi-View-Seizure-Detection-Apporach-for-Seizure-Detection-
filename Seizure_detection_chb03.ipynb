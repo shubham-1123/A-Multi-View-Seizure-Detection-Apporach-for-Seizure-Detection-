{
  "nbformat": 4,
  "nbformat_minor": 0,
  "metadata": {
    "colab": {
      "name": "Seizure_detection_chb03.ipynb",
      "provenance": [],
      "machine_shape": "hm"
    },
    "kernelspec": {
      "name": "python3",
      "display_name": "Python 3"
    },
    "language_info": {
      "name": "python"
    },
    "accelerator": "GPU"
  },
  "cells": [
    {
      "cell_type": "code",
      "execution_count": null,
      "metadata": {
        "colab": {
          "base_uri": "https://localhost:8080/"
        },
        "id": "WGtTnwQnQIeJ",
        "outputId": "3a89888c-4f4a-4a79-b796-45ae9bbbf186"
      },
      "outputs": [
        {
          "output_type": "stream",
          "name": "stdout",
          "text": [
            "Thu Mar 10 04:02:46 2022       \n",
            "+-----------------------------------------------------------------------------+\n",
            "| NVIDIA-SMI 460.32.03    Driver Version: 460.32.03    CUDA Version: 11.2     |\n",
            "|-------------------------------+----------------------+----------------------+\n",
            "| GPU  Name        Persistence-M| Bus-Id        Disp.A | Volatile Uncorr. ECC |\n",
            "| Fan  Temp  Perf  Pwr:Usage/Cap|         Memory-Usage | GPU-Util  Compute M. |\n",
            "|                               |                      |               MIG M. |\n",
            "|===============================+======================+======================|\n",
            "|   0  Tesla P100-PCIE...  Off  | 00000000:00:04.0 Off |                    0 |\n",
            "| N/A   39C    P0    27W / 250W |      0MiB / 16280MiB |      0%      Default |\n",
            "|                               |                      |                  N/A |\n",
            "+-------------------------------+----------------------+----------------------+\n",
            "                                                                               \n",
            "+-----------------------------------------------------------------------------+\n",
            "| Processes:                                                                  |\n",
            "|  GPU   GI   CI        PID   Type   Process name                  GPU Memory |\n",
            "|        ID   ID                                                   Usage      |\n",
            "|=============================================================================|\n",
            "|  No running processes found                                                 |\n",
            "+-----------------------------------------------------------------------------+\n"
          ]
        }
      ],
      "source": [
        "!nvidia-smi"
      ]
    },
    {
      "cell_type": "code",
      "source": [
        "! pip install pyEDFlib"
      ],
      "metadata": {
        "id": "F0ZmICL5etZt"
      },
      "execution_count": null,
      "outputs": []
    },
    {
      "cell_type": "code",
      "source": [
        "import pyedflib\n",
        "import numpy as np\n",
        "from scipy import signal\n",
        "from scipy.signal import butter, lfilter\n",
        "import matplotlib.pyplot as plt\n",
        "from datetime import datetime, timedelta\n",
        "import os\n",
        "import warnings \n",
        "import random\n",
        "import collections\n",
        "from PIL import Image\n",
        "from numpy.random import seed \n",
        "\n",
        "warnings.filterwarnings(\"ignore\")"
      ],
      "metadata": {
        "id": "OIEtJnFFewyR"
      },
      "execution_count": null,
      "outputs": []
    },
    {
      "cell_type": "code",
      "source": [
        "from scipy.signal import butter, sosfilt, sosfreqz"
      ],
      "metadata": {
        "id": "0mEE8gUText5"
      },
      "execution_count": null,
      "outputs": []
    },
    {
      "cell_type": "markdown",
      "source": [
        "**butter worth bandpass filter**"
      ],
      "metadata": {
        "id": "nfgdtl6BX8Bo"
      }
    },
    {
      "cell_type": "code",
      "source": [
        "def butter_bandpass(lowcut, highcut, fs, order=5):\n",
        "        nyq = 0.5 * fs\n",
        "        low = lowcut / nyq\n",
        "        high = highcut / nyq\n",
        "        sos = butter(order, [low, high], analog=False, btype='band', output='sos')\n",
        "        return sos"
      ],
      "metadata": {
        "id": "6YuChxjke04P"
      },
      "execution_count": null,
      "outputs": []
    },
    {
      "cell_type": "code",
      "source": [
        "def butter_bandpass_filter(data, lowcut, highcut, fs, order=5):\n",
        "        sos = butter_bandpass(lowcut, highcut, fs, order=order)\n",
        "        y = sosfilt(sos, data)\n",
        "        return y"
      ],
      "metadata": {
        "id": "4-t344hhe3bg"
      },
      "execution_count": null,
      "outputs": []
    },
    {
      "cell_type": "markdown",
      "source": [
        "**setting frequency**"
      ],
      "metadata": {
        "id": "YFEtYUnwYAWe"
      }
    },
    {
      "cell_type": "code",
      "source": [
        "lowcut = 0.5\n",
        "highcut = 30\n",
        "fs = 256"
      ],
      "metadata": {
        "id": "QFSssn2Qe6De"
      },
      "execution_count": null,
      "outputs": []
    },
    {
      "cell_type": "code",
      "source": [
        "pathDataSet = '/content/drive/MyDrive/chb_03/'\n",
        "patients = [\"03\"]"
      ],
      "metadata": {
        "id": "6zocBBkhe8Ta"
      },
      "execution_count": null,
      "outputs": []
    },
    {
      "cell_type": "code",
      "source": [
        "def loadSummaryPatient(index):\n",
        "  f = open(pathDataSet+'chb'+patients[index]+'/chb'+patients[index]+'-summary.txt', 'r')\n",
        "  parent = 'chb'+patients[index]+'/'\n",
        "  return f, parent"
      ],
      "metadata": {
        "id": "UzxM3kWkfPU3"
      },
      "execution_count": null,
      "outputs": []
    },
    {
      "cell_type": "markdown",
      "source": [
        "**create the image dataset for time domain**"
      ],
      "metadata": {
        "id": "d2AuY6oAXpZn"
      }
    },
    {
      "cell_type": "code",
      "source": [
        "def createDataset():\n",
        "\n",
        "    print(\"START \\n\")\n",
        "    for indexPatient in range(0, len(patients)):\n",
        "        # fileList = []\n",
        "    \n",
        "        f, parent = loadSummaryPatient(indexPatient)\n",
        "        line=f.readline()\n",
        "        while (line):\n",
        "            data=line.split(':')\n",
        "            if (data[0]==\"File Name\"):\n",
        "                name_F=data[1].strip()\n",
        "                print(name_F)\n",
        "                for i in range(3):\n",
        "                    line=f.readline()\n",
        "                for j in range(0, int(line.split(': ')[1])):\n",
        "                    secSt=int(f.readline().split(': ')[1].split(' ')[0])\n",
        "                    secEn=int(f.readline().split(': ')[1].split(' ')[0])\n",
        "                    seizureImageGenerate(secSt, secEn, name_F, parent)\n",
        "\n",
        "            line=f.readline()\n",
        "        f.close()\n",
        "\n",
        "    print(\"END \\n\")"
      ],
      "metadata": {
        "id": "zP5j9wAZfWNr"
      },
      "execution_count": null,
      "outputs": []
    },
    {
      "cell_type": "markdown",
      "source": [
        "**function to generate time images**\n",
        "\n",
        "\n",
        "\n"
      ],
      "metadata": {
        "id": "WQBMVZS8Xv5A"
      }
    },
    {
      "cell_type": "code",
      "source": [
        "def seizureImageGenerate(secSt, secEn, name_F, parent):\n",
        "  file1 = pyedflib.EdfReader(pathDataSet+parent+name_F)\n",
        "  n = file1.signals_in_file\n",
        "  # print(n)\n",
        "  signal_labels = file1.getSignalLabels()\n",
        "  signal_headers = file1.getSignalHeaders()\n",
        "  rate = signal_headers[0]['sample_rate']\n",
        "  dur = file1.getFileDuration()\n",
        "  x = np.zeros((n, file1.getNSamples()[0]))\n",
        "  for i in range(n):\n",
        "    x[i,:] = file1.readSignal(i)\n",
        "    # print(x)\n",
        "    label = file1.getLabel(i)\n",
        "  file1.close()\n",
        "  x_filter = butter_bandpass_filter(x ,lowcut , highcut , fs , order = 5)\n",
        "  #a = os.getcwd()\n",
        "  path = '/content/mix_data/'+ parent\n",
        "  if os.path.isdir(path) is not True:\n",
        "    os.makedirs(path)\n",
        "  picnum = int(dur*rate/256)\n",
        "  for i in range(picnum):\n",
        "    img = x_filter[:,i*256:(i+1)*256]\n",
        "    Img = Image.fromarray(np.uint8(img))\n",
        "    if secSt <= i+1 <= secEn: #window size is 1sec\n",
        "      filename = '_time_seizure_'+ str(i)\n",
        "      Img.save(path + name_F.split('.')[0] + filename+'.jpg')\n",
        "    else:\n",
        "      filename = '_time_nonseizure_'+ str(i)\n",
        "      Img.save(path + name_F.split('.')[0] + filename+'.jpg')"
      ],
      "metadata": {
        "id": "0sFcnHqcfZAJ"
      },
      "execution_count": null,
      "outputs": []
    },
    {
      "cell_type": "code",
      "source": [
        "createDataset()"
      ],
      "metadata": {
        "id": "9r46rZezflZQ",
        "colab": {
          "base_uri": "https://localhost:8080/"
        },
        "outputId": "4f6859ef-e0b5-4805-a115-ff05f0fd7781"
      },
      "execution_count": null,
      "outputs": [
        {
          "output_type": "stream",
          "name": "stdout",
          "text": [
            "START \n",
            "\n",
            "chb03_01.edf\n",
            "chb03_02.edf\n",
            "chb03_03.edf\n",
            "chb03_04.edf\n",
            "chb03_05.edf\n",
            "chb03_06.edf\n",
            "chb03_07.edf\n",
            "chb03_08.edf\n",
            "chb03_09.edf\n",
            "chb03_10.edf\n",
            "chb03_11.edf\n",
            "chb03_12.edf\n",
            "chb03_13.edf\n",
            "chb03_14.edf\n",
            "chb03_15.edf\n",
            "chb03_16.edf\n",
            "chb03_17.edf\n",
            "chb03_18.edf\n",
            "chb03_19.edf\n",
            "chb03_20.edf\n",
            "chb03_21.edf\n",
            "chb03_22.edf\n",
            "chb03_23.edf\n",
            "chb03_24.edf\n",
            "chb03_25.edf\n",
            "chb03_26.edf\n",
            "chb03_27.edf\n",
            "chb03_28.edf\n",
            "chb03_29.edf\n",
            "chb03_30.edf\n",
            "chb03_31.edf\n",
            "chb03_32.edf\n",
            "chb03_33.edf\n",
            "chb03_34.edf\n",
            "chb03_35.edf\n",
            "chb03_36.edf\n",
            "chb03_37.edf\n",
            "chb03_38.edf\n",
            "END \n",
            "\n"
          ]
        }
      ]
    },
    {
      "cell_type": "markdown",
      "source": [
        "**function to generate frequency images**"
      ],
      "metadata": {
        "id": "Ur5wD0J8X5Y3"
      }
    },
    {
      "cell_type": "code",
      "source": [
        "def seizureImageGenerate_freq(secSt, secEn, name_F, parent):\n",
        "  file1 = pyedflib.EdfReader(pathDataSet+parent+name_F)\n",
        "  n = file1.signals_in_file\n",
        "  # print(n)\n",
        "  signal_labels = file1.getSignalLabels()\n",
        "  signal_headers = file1.getSignalHeaders()\n",
        "  rate = signal_headers[0]['sample_rate']\n",
        "  dur = file1.getFileDuration()\n",
        "  x = np.zeros((n, file1.getNSamples()[0]))\n",
        "  for i in range(n):\n",
        "    x[i,:] = file1.readSignal(i)\n",
        "    # print(x)\n",
        "    label = file1.getLabel(i)\n",
        "  file1.close()\n",
        "  x_filter = butter_bandpass_filter(x ,lowcut , highcut , fs , order = 5)\n",
        "  dft = np.fft.fft(x_filter, axis=1)\n",
        "  #a = os.getcwd()\n",
        "  path = '/content/mix_data/'+ parent\n",
        "  if os.path.isdir(path) is not True:\n",
        "    os.makedirs(path)\n",
        "  picnum = int(dur*rate/256)\n",
        "  for i in range(picnum):\n",
        "    img = dft[:,i*256:(i+1)*256]\n",
        "    Img = Image.fromarray(np.uint8(img))\n",
        "    if secSt <= i+1 <= secEn: #window size of 1sec\n",
        "      filename = '_freq_seizure_'+ str(i)\n",
        "      Img.save(path + name_F.split('.')[0] + filename+'.jpg')\n",
        "    else:\n",
        "      filename = '_freq_nonseizure_'+ str(i)\n",
        "      Img.save(path + name_F.split('.')[0] + filename+'.jpg')"
      ],
      "metadata": {
        "id": "QmmWNjgUgjrm"
      },
      "execution_count": null,
      "outputs": []
    },
    {
      "cell_type": "markdown",
      "source": [
        "**create the image dataset for frequency domain**"
      ],
      "metadata": {
        "id": "EXXZVGNKXl2S"
      }
    },
    {
      "cell_type": "code",
      "source": [
        "def createDataset_freq():\n",
        "\n",
        "    print(\"START \\n\")\n",
        "    for indexPatient in range(0, len(patients)):\n",
        "        # fileList = []\n",
        "    \n",
        "        f, parent = loadSummaryPatient(indexPatient)\n",
        "        line=f.readline()\n",
        "        while (line):\n",
        "            data=line.split(':')\n",
        "            if (data[0]==\"File Name\"):\n",
        "                name_F=data[1].strip()\n",
        "                print(name_F)\n",
        "                for i in range(3):\n",
        "                    line=f.readline()\n",
        "                for j in range(0, int(line.split(': ')[1])):\n",
        "                    secSt=int(f.readline().split(': ')[1].split(' ')[0])\n",
        "                    secEn=int(f.readline().split(': ')[1].split(' ')[0])\n",
        "                    seizureImageGenerate_freq(secSt, secEn, name_F, parent)\n",
        "\n",
        "            line=f.readline()\n",
        "        f.close()\n",
        "\n",
        "    print(\"END \\n\")"
      ],
      "metadata": {
        "id": "mZRMBc55gpQ-"
      },
      "execution_count": null,
      "outputs": []
    },
    {
      "cell_type": "code",
      "source": [
        "createDataset_freq()"
      ],
      "metadata": {
        "id": "wRPCRL4Egs4m",
        "colab": {
          "base_uri": "https://localhost:8080/"
        },
        "outputId": "3387ca08-d72d-4c64-f14e-c43d555364b3"
      },
      "execution_count": null,
      "outputs": [
        {
          "output_type": "stream",
          "name": "stdout",
          "text": [
            "START \n",
            "\n",
            "chb03_01.edf\n",
            "chb03_02.edf\n",
            "chb03_03.edf\n",
            "chb03_04.edf\n",
            "chb03_05.edf\n",
            "chb03_06.edf\n",
            "chb03_07.edf\n",
            "chb03_08.edf\n",
            "chb03_09.edf\n",
            "chb03_10.edf\n",
            "chb03_11.edf\n",
            "chb03_12.edf\n",
            "chb03_13.edf\n",
            "chb03_14.edf\n",
            "chb03_15.edf\n",
            "chb03_16.edf\n",
            "chb03_17.edf\n",
            "chb03_18.edf\n",
            "chb03_19.edf\n",
            "chb03_20.edf\n",
            "chb03_21.edf\n",
            "chb03_22.edf\n",
            "chb03_23.edf\n",
            "chb03_24.edf\n",
            "chb03_25.edf\n",
            "chb03_26.edf\n",
            "chb03_27.edf\n",
            "chb03_28.edf\n",
            "chb03_29.edf\n",
            "chb03_30.edf\n",
            "chb03_31.edf\n",
            "chb03_32.edf\n",
            "chb03_33.edf\n",
            "chb03_34.edf\n",
            "chb03_35.edf\n",
            "chb03_36.edf\n",
            "chb03_37.edf\n",
            "chb03_38.edf\n",
            "END \n",
            "\n"
          ]
        }
      ]
    },
    {
      "cell_type": "code",
      "source": [
        "import tensorflow\n",
        "from tensorflow import keras \n",
        "from tensorflow.keras.models import Sequential\n",
        "from tensorflow.keras.layers import Dropout, Dense, Activation, Flatten, LSTM, Bidirectional, ConvLSTM2D\n",
        "from tensorflow.keras.layers import Conv2D, MaxPooling2D,GlobalMaxPooling2D, BatchNormalization, TimeDistributed, SimpleRNN, GRU\n",
        "from tensorflow.keras.optimizers import SGD\n",
        "from tensorflow.keras.backend import clear_session"
      ],
      "metadata": {
        "id": "F0uc8idEg0A-"
      },
      "execution_count": null,
      "outputs": []
    },
    {
      "cell_type": "code",
      "source": [
        "from tensorflow.keras.utils import Sequence\n",
        "from sklearn.model_selection import train_test_split\n",
        "from sklearn.metrics import accuracy_score, confusion_matrix, f1_score, roc_curve, auc, fbeta_score"
      ],
      "metadata": {
        "id": "q7Kc9Qabg3IO"
      },
      "execution_count": null,
      "outputs": []
    },
    {
      "cell_type": "markdown",
      "source": [
        "**Data Loader**"
      ],
      "metadata": {
        "id": "zUZkz-eHXZRU"
      }
    },
    {
      "cell_type": "code",
      "source": [
        "def generatePathList(patients, test_size):\n",
        "    parent_path = '/content/mix_data/'\n",
        "    pathList = []\n",
        "    for indexPatient in range(0, len(patients)):\n",
        "        sub_path = 'chb'+patients[indexPatient]+'/'\n",
        "        directory_name = parent_path+sub_path\n",
        "        for filename in os.listdir(directory_name):\n",
        "            pathList.append(directory_name+filename)\n",
        "    L = len(pathList)\n",
        "    test_index = int(L*test_size)\n",
        "    index = random.sample(range(L), L)\n",
        "    return index[:test_index],index[test_index:],pathList\n",
        "\n",
        "class DataGenerator(Sequence):\n",
        "\n",
        "    def __init__(self, index, pathList, parent_path = '/content/mix_data/', batch_size=32):\n",
        "        self.batch_size = batch_size\n",
        "        self.parent_path = parent_path\n",
        "        self.pathList = pathList\n",
        "        self.index = index\n",
        "        self.L = len(self.index)\n",
        "\n",
        "\n",
        "    def __len__(self):\n",
        "        return self.L - self.batch_size\n",
        "\n",
        "    def __getitem__(self, idx):\n",
        "        batch_indexs = self.index[idx:(idx+self.batch_size)]\n",
        "        image_path = [self.pathList[k] for k in batch_indexs]\n",
        "    \n",
        "        return self._load_image(image_path)\n",
        "\n",
        "  \n",
        "    def _load_image(self, image_path):\n",
        "        features = np.zeros(((len(image_path)),23,256))\n",
        "        labels = np.zeros((len(image_path)),dtype=int)\n",
        "        i = 0 #the feature index\n",
        "        for name in image_path:\n",
        "            #print(name)\n",
        "            if '_seizure_' in name:\n",
        "                features[i] = np.array(Image.open(name))[0:23,:]\n",
        "                labels[i] = 1\n",
        "            elif '_nonseizure_' in name:\n",
        "                features[i] = np.array(Image.open(name))[0:23,:]\n",
        "                labels[i] = 0\n",
        "            i = i+1\n",
        "        #print(features)\n",
        "        #print(labels)\n",
        "        #print(np.expand_dims(np.array(features), axis=3).shape)\n",
        "        #print(labels.shape)\n",
        "        return np.expand_dims(np.array(features), axis=3),labels"
      ],
      "metadata": {
        "id": "U8oKog-5g6Dg"
      },
      "execution_count": null,
      "outputs": []
    },
    {
      "cell_type": "code",
      "source": [
        "model = Sequential()\n",
        "\n",
        "model.add(Conv2D(64, (2, 4), input_shape=((23, 256, 1))))\n",
        "model.add(BatchNormalization())\n",
        "model.add(Activation('relu'))\n",
        "model.add(MaxPooling2D(pool_size=(1, 4)))\n",
        "model.add(Dropout(0.15))\n",
        "\n",
        "model.add(Conv2D(32, (2, 4)))\n",
        "model.add(BatchNormalization())\n",
        "model.add(Activation('relu'))\n",
        "model.add(MaxPooling2D(pool_size=(1, 4)))\n",
        "model.add(Dropout(0.15))\n",
        "\n",
        "model.add(Conv2D(32, (2, 4)))\n",
        "model.add(BatchNormalization())\n",
        "model.add(Activation('relu'))\n",
        "model.add(MaxPooling2D(pool_size=(1, 4)))\n",
        "model.add(Dropout(0.15))\n",
        "\n",
        "model.add(TimeDistributed(Flatten()))\n",
        "model.add(Bidirectional(GRU(32)))\n",
        "model.add(Dropout(0.15))\n",
        "\n",
        "model.add(Dense(32, activation='relu'))\n",
        "model.add(Dense(1, activation='sigmoid'))\n",
        "\n",
        "sgd = SGD(lr=0.0001, decay=1e-6, momentum=0.9, nesterov=True)\n",
        "model.compile(metrics=['accuracy',keras.metrics.Recall(name='sen')], \n",
        "              loss='binary_crossentropy', optimizer= 'sgd')"
      ],
      "metadata": {
        "id": "O_NzV9gBg_Fm"
      },
      "execution_count": null,
      "outputs": []
    },
    {
      "cell_type": "markdown",
      "source": [
        "**Time domain data**"
      ],
      "metadata": {
        "id": "Hn7KsiQkhFR4"
      }
    },
    {
      "cell_type": "code",
      "source": [
        "test_id, train_id, path_list = generatePathList(patients,test_size=0.3) # 30% test_size \n",
        "train_data = DataGenerator(train_id, path_list)\n",
        "test_data  =  DataGenerator(test_id, path_list)"
      ],
      "metadata": {
        "id": "xJMFWu27hCbS"
      },
      "execution_count": null,
      "outputs": []
    },
    {
      "cell_type": "code",
      "source": [
        "len(train_data)"
      ],
      "metadata": {
        "id": "vODfvvH9hKdF",
        "colab": {
          "base_uri": "https://localhost:8080/"
        },
        "outputId": "0cbd458c-18ae-4d70-e4eb-4bd2202a39ff"
      },
      "execution_count": null,
      "outputs": [
        {
          "output_type": "execute_result",
          "data": {
            "text/plain": [
              "17608"
            ]
          },
          "metadata": {},
          "execution_count": 23
        }
      ]
    },
    {
      "cell_type": "code",
      "source": [
        "len(test_data)"
      ],
      "metadata": {
        "id": "qG_H3MdthMOA",
        "colab": {
          "base_uri": "https://localhost:8080/"
        },
        "outputId": "7ad296bd-455d-4eff-cb62-a58f40175666"
      },
      "execution_count": null,
      "outputs": [
        {
          "output_type": "execute_result",
          "data": {
            "text/plain": [
              "7528"
            ]
          },
          "metadata": {},
          "execution_count": 24
        }
      ]
    },
    {
      "cell_type": "code",
      "source": [
        "from tensorflow.keras.callbacks import EarlyStopping\n",
        "early_stop = EarlyStopping(monitor='val_loss', patience=100)"
      ],
      "metadata": {
        "id": "E0a-gtWuhOgN"
      },
      "execution_count": null,
      "outputs": []
    },
    {
      "cell_type": "code",
      "source": [
        "history = model.fit(train_data, epochs= 10, verbose=1, callbacks=[early_stop], steps_per_epoch=None, \n",
        "                    validation_data=test_data, class_weight={0:1, 1:50}, workers=4, use_multiprocessing=True,\n",
        "                    shuffle=False, initial_epoch=0)"
      ],
      "metadata": {
        "id": "lwEX2ihShR5V",
        "colab": {
          "base_uri": "https://localhost:8080/"
        },
        "outputId": "c753b9dc-1b04-4751-ec2c-689035aee9f6"
      },
      "execution_count": null,
      "outputs": [
        {
          "output_type": "stream",
          "name": "stdout",
          "text": [
            "Epoch 1/10\n",
            "17608/17608 [==============================] - 348s 19ms/step - loss: 0.0662 - accuracy: 0.9908 - sen: 0.9878 - val_loss: 0.0383 - val_accuracy: 0.9888 - val_sen: 0.9210\n",
            "Epoch 2/10\n",
            "17608/17608 [==============================] - 333s 19ms/step - loss: 0.0386 - accuracy: 0.9953 - sen: 0.9929 - val_loss: 0.0253 - val_accuracy: 0.9923 - val_sen: 0.8892\n",
            "Epoch 3/10\n",
            "17608/17608 [==============================] - 335s 19ms/step - loss: 0.0302 - accuracy: 0.9959 - sen: 0.9950 - val_loss: 0.0207 - val_accuracy: 0.9943 - val_sen: 0.8732\n",
            "Epoch 4/10\n",
            "17608/17608 [==============================] - 333s 19ms/step - loss: 0.0211 - accuracy: 0.9969 - sen: 0.9963 - val_loss: 0.0286 - val_accuracy: 0.9911 - val_sen: 0.8971\n",
            "Epoch 5/10\n",
            "17608/17608 [==============================] - 330s 19ms/step - loss: 0.0169 - accuracy: 0.9976 - sen: 0.9977 - val_loss: 0.0265 - val_accuracy: 0.9932 - val_sen: 0.8971\n",
            "Epoch 6/10\n",
            "17608/17608 [==============================] - 331s 19ms/step - loss: 0.0156 - accuracy: 0.9974 - sen: 0.9975 - val_loss: 0.0224 - val_accuracy: 0.9940 - val_sen: 0.8812\n",
            "Epoch 7/10\n",
            "17608/17608 [==============================] - 330s 19ms/step - loss: 0.0156 - accuracy: 0.9974 - sen: 0.9979 - val_loss: 0.0270 - val_accuracy: 0.9937 - val_sen: 0.8971\n",
            "Epoch 8/10\n",
            "17608/17608 [==============================] - 330s 19ms/step - loss: 0.0108 - accuracy: 0.9981 - sen: 0.9979 - val_loss: 0.0220 - val_accuracy: 0.9939 - val_sen: 0.8971\n",
            "Epoch 9/10\n",
            "17608/17608 [==============================] - 330s 19ms/step - loss: 0.0079 - accuracy: 0.9986 - sen: 0.9989 - val_loss: 0.0245 - val_accuracy: 0.9950 - val_sen: 0.8732\n",
            "Epoch 10/10\n",
            "17608/17608 [==============================] - 331s 19ms/step - loss: 0.0097 - accuracy: 0.9983 - sen: 0.9984 - val_loss: 0.0216 - val_accuracy: 0.9955 - val_sen: 0.8812\n"
          ]
        }
      ]
    },
    {
      "cell_type": "code",
      "source": [
        "model.save_weights('/content/drive/MyDrive/eeg_time_domain_image/model_weights_time_chb03.h5')\n",
        "model.save('/content/drive/MyDrive/eeg_time_domain_image/model_keras_time_chb03.h5')"
      ],
      "metadata": {
        "id": "Og60DAtVVjBs"
      },
      "execution_count": null,
      "outputs": []
    },
    {
      "cell_type": "code",
      "source": [
        "model.evaluate(test_data, batch_size=32)"
      ],
      "metadata": {
        "colab": {
          "base_uri": "https://localhost:8080/"
        },
        "id": "-P_02N4KV6v-",
        "outputId": "0c42318c-55e4-4a27-a7f4-e57ac56a50a4"
      },
      "execution_count": null,
      "outputs": [
        {
          "output_type": "stream",
          "name": "stdout",
          "text": [
            "7528/7528 [==============================] - 71s 9ms/step - loss: 0.0216 - accuracy: 0.9955 - sen: 0.8812\n"
          ]
        },
        {
          "output_type": "execute_result",
          "data": {
            "text/plain": [
              "[0.021602371707558632, 0.9954959750175476, 0.8811955451965332]"
            ]
          },
          "metadata": {},
          "execution_count": 28
        }
      ]
    },
    {
      "cell_type": "code",
      "source": [
        "y_pred = model.predict(test_data)\n",
        "y_pred = np.round(y_pred).astype(int)\n",
        "y_val = []\n",
        "for i in range(len(test_data)):\n",
        "  list_val = list(test_data[i])\n",
        "  y_val = np.hstack((y_val,list_val[1]))"
      ],
      "metadata": {
        "id": "JojGg7TBV9RN"
      },
      "execution_count": null,
      "outputs": []
    },
    {
      "cell_type": "code",
      "source": [
        "tn, fp, fn, tp = confusion_matrix(y_val, y_pred).ravel()\n",
        "print('accuracy \\t', accuracy_score(y_val, y_pred))\n",
        "sensitivity = int(tp)/int(tp+fn)\n",
        "print('sensitivity \\t', sensitivity)\n",
        "specificity = int(tn)/int(fp+tn)\n",
        "print('specificity \\t', specificity)\n",
        "print('F1-score \\t', f1_score(y_val, y_pred))"
      ],
      "metadata": {
        "colab": {
          "base_uri": "https://localhost:8080/"
        },
        "id": "rmZrgqXoWAx3",
        "outputId": "849905e4-8953-47ae-a246-8d874c1ba192"
      },
      "execution_count": null,
      "outputs": [
        {
          "output_type": "stream",
          "name": "stdout",
          "text": [
            "accuracy \t 0.9954959816684378\n",
            "sensitivity \t 0.8811955168119552\n",
            "specificity \t 0.9974333103963594\n",
            "F1-score \t 0.8670506065433158\n"
          ]
        }
      ]
    },
    {
      "cell_type": "code",
      "source": [
        "plt.plot(history.history['loss'])\n",
        "plt.plot(history.history['val_loss'])\n",
        "plt.title('Model loss')\n",
        "plt.ylabel('Loss')\n",
        "plt.xlabel('Epoch')\n",
        "plt.legend(['Train', 'Val'], loc='upper right')\n",
        "plt.show()"
      ],
      "metadata": {
        "colab": {
          "base_uri": "https://localhost:8080/",
          "height": 294
        },
        "id": "7AwbDjTuWDgH",
        "outputId": "925c6c0b-028d-4e84-917f-38911e39b92c"
      },
      "execution_count": null,
      "outputs": [
        {
          "output_type": "display_data",
          "data": {
            "image/png": "[encoded data removed]",
            "text/plain": [
              "<Figure size 432x288 with 1 Axes>"
            ]
          },
          "metadata": {
            "needs_background": "light"
          }
        }
      ]
    },
    {
      "cell_type": "code",
      "source": [
        "plt.plot(history.history['accuracy'])\n",
        "plt.plot(history.history['val_accuracy'])\n",
        "plt.title('Model accuracy')\n",
        "plt.ylabel('Accuracy')\n",
        "plt.xlabel('Epoch')\n",
        "plt.legend(['Train', 'Val'], loc='lower right')\n",
        "plt.show()"
      ],
      "metadata": {
        "colab": {
          "base_uri": "https://localhost:8080/",
          "height": 294
        },
        "id": "Jt5HyW16WHpU",
        "outputId": "73115441-81ac-4a34-94f0-be5ff37ff5d3"
      },
      "execution_count": null,
      "outputs": [
        {
          "output_type": "display_data",
          "data": {
            "image/png": "[encoded data removed]",
            "text/plain": [
              "<Figure size 432x288 with 1 Axes>"
            ]
          },
          "metadata": {
            "needs_background": "light"
          }
        }
      ]
    },
    {
      "cell_type": "markdown",
      "source": [
        "**freq domain images**"
      ],
      "metadata": {
        "id": "pG3xqZPJWw5_"
      }
    },
    {
      "cell_type": "code",
      "source": [
        "test_id, train_id, path_list = generatePathList(patients,test_size=0.3) # 30% test_size \n",
        "train_data = DataGenerator(train_id, path_list)\n",
        "test_data  =  DataGenerator(test_id, path_list)"
      ],
      "metadata": {
        "id": "CNAdOyKBWwXL"
      },
      "execution_count": null,
      "outputs": []
    },
    {
      "cell_type": "code",
      "source": [
        "len(train_data)"
      ],
      "metadata": {
        "colab": {
          "base_uri": "https://localhost:8080/"
        },
        "id": "vu4zbKBtW2Ct",
        "outputId": "184b298e-1bfa-47a3-e639-dc9c2a10aec9"
      },
      "execution_count": null,
      "outputs": [
        {
          "output_type": "execute_result",
          "data": {
            "text/plain": [
              "17608"
            ]
          },
          "metadata": {},
          "execution_count": 35
        }
      ]
    },
    {
      "cell_type": "code",
      "source": [
        "len(test_data)"
      ],
      "metadata": {
        "colab": {
          "base_uri": "https://localhost:8080/"
        },
        "id": "xIC-rmfCXWwY",
        "outputId": "67a140d2-f825-4518-e214-82f0abea365e"
      },
      "execution_count": null,
      "outputs": [
        {
          "output_type": "execute_result",
          "data": {
            "text/plain": [
              "7528"
            ]
          },
          "metadata": {},
          "execution_count": 36
        }
      ]
    },
    {
      "cell_type": "code",
      "source": [
        "from tensorflow.keras.callbacks import EarlyStopping\n",
        "early_stop = EarlyStopping(monitor='val_loss', patience=100)"
      ],
      "metadata": {
        "id": "X_gZFWSlXcCE"
      },
      "execution_count": null,
      "outputs": []
    },
    {
      "cell_type": "code",
      "source": [
        "history = model.fit(train_data, epochs= 10, verbose=1, callbacks=[early_stop], steps_per_epoch=None, \n",
        "                    validation_data=test_data, class_weight={0:1, 1:50}, workers=4, use_multiprocessing=True,\n",
        "                    shuffle=False, initial_epoch=0)"
      ],
      "metadata": {
        "colab": {
          "base_uri": "https://localhost:8080/"
        },
        "id": "BQt6FKCeXk3y",
        "outputId": "e8a24d26-4eac-4c35-aa80-c8f672892c7c"
      },
      "execution_count": null,
      "outputs": [
        {
          "output_type": "stream",
          "name": "stdout",
          "text": [
            "Epoch 1/10\n",
            "17608/17608 [==============================] - 333s 19ms/step - loss: 0.3425 - accuracy: 0.9445 - sen: 0.9263 - val_loss: 0.1695 - val_accuracy: 0.9614 - val_sen: 0.2328\n",
            "Epoch 2/10\n",
            "17608/17608 [==============================] - 336s 19ms/step - loss: 0.2440 - accuracy: 0.9666 - sen: 0.9465 - val_loss: 0.1505 - val_accuracy: 0.9311 - val_sen: 0.4052\n",
            "Epoch 3/10\n",
            "17608/17608 [==============================] - 337s 19ms/step - loss: 0.2003 - accuracy: 0.9702 - sen: 0.9595 - val_loss: 0.1630 - val_accuracy: 0.9349 - val_sen: 0.4224\n",
            "Epoch 4/10\n",
            "17608/17608 [==============================] - 333s 19ms/step - loss: 0.1695 - accuracy: 0.9727 - sen: 0.9676 - val_loss: 0.1752 - val_accuracy: 0.9341 - val_sen: 0.6207\n",
            "Epoch 5/10\n",
            "17608/17608 [==============================] - 334s 19ms/step - loss: 0.1519 - accuracy: 0.9731 - sen: 0.9715 - val_loss: 0.1994 - val_accuracy: 0.9344 - val_sen: 0.5948\n",
            "Epoch 6/10\n",
            "17608/17608 [==============================] - 333s 19ms/step - loss: 0.1363 - accuracy: 0.9748 - sen: 0.9757 - val_loss: 0.1829 - val_accuracy: 0.9380 - val_sen: 0.5776\n",
            "Epoch 7/10\n",
            "17608/17608 [==============================] - 334s 19ms/step - loss: 0.1300 - accuracy: 0.9765 - sen: 0.9783 - val_loss: 0.2148 - val_accuracy: 0.9386 - val_sen: 0.6293\n",
            "Epoch 8/10\n",
            "17608/17608 [==============================] - 332s 19ms/step - loss: 0.1322 - accuracy: 0.9749 - sen: 0.9764 - val_loss: 0.2123 - val_accuracy: 0.9326 - val_sen: 0.6724\n",
            "Epoch 9/10\n",
            "17608/17608 [==============================] - 332s 19ms/step - loss: 0.1266 - accuracy: 0.9747 - sen: 0.9774 - val_loss: 0.1753 - val_accuracy: 0.9366 - val_sen: 0.6466\n",
            "Epoch 10/10\n",
            "17608/17608 [==============================] - 334s 19ms/step - loss: 0.1203 - accuracy: 0.9756 - sen: 0.9798 - val_loss: 0.1916 - val_accuracy: 0.9370 - val_sen: 0.6121\n"
          ]
        }
      ]
    },
    {
      "cell_type": "code",
      "source": [
        "model.save_weights('/content/drive/MyDrive/eeg_frequency_domain_image/model_weights_time_chb03.h5')\n",
        "model.save('/content/drive/MyDrive/eeg_frequency_domain_image/model_keras_time_chb03.h5')"
      ],
      "metadata": {
        "id": "VtbK0OteXoRe"
      },
      "execution_count": null,
      "outputs": []
    },
    {
      "cell_type": "code",
      "source": [
        "model.evaluate(test_data, batch_size=32)"
      ],
      "metadata": {
        "colab": {
          "base_uri": "https://localhost:8080/"
        },
        "id": "ogHJEiXMX3t1",
        "outputId": "91b8da9c-fb51-4a36-92f1-e84ed5e64f2f"
      },
      "execution_count": null,
      "outputs": [
        {
          "output_type": "stream",
          "name": "stdout",
          "text": [
            "7528/7528 [==============================] - 73s 10ms/step - loss: 0.1916 - accuracy: 0.9370 - sen: 0.6121\n"
          ]
        },
        {
          "output_type": "execute_result",
          "data": {
            "text/plain": [
              "[0.191630020737648, 0.9369810819625854, 0.6120689511299133]"
            ]
          },
          "metadata": {},
          "execution_count": 40
        }
      ]
    },
    {
      "cell_type": "code",
      "source": [
        "y_pred = model.predict(test_data)\n",
        "y_pred = np.round(y_pred).astype(int)\n",
        "y_val = []\n",
        "for i in range(len(test_data)):\n",
        "  list_val = list(test_data[i])\n",
        "  y_val = np.hstack((y_val,list_val[1]))"
      ],
      "metadata": {
        "id": "94XusS5plAHI"
      },
      "execution_count": null,
      "outputs": []
    },
    {
      "cell_type": "code",
      "source": [
        "tn, fp, fn, tp = confusion_matrix(y_val, y_pred).ravel()\n",
        "print('accuracy \\t', accuracy_score(y_val, y_pred))\n",
        "sensitivity = int(tp)/int(tp+fn)\n",
        "print('sensitivity \\t', sensitivity)\n",
        "specificity = int(tn)/int(fp+tn)\n",
        "print('specificity \\t', specificity)\n",
        "print('F1-score \\t', f1_score(y_val, y_pred))"
      ],
      "metadata": {
        "colab": {
          "base_uri": "https://localhost:8080/"
        },
        "id": "B6uipuUblEoH",
        "outputId": "7c014506-b649-497b-dc1c-fe30591bc0cd"
      },
      "execution_count": null,
      "outputs": [
        {
          "output_type": "stream",
          "name": "stdout",
          "text": [
            "accuracy \t 0.9369811038788523\n",
            "sensitivity \t 0.6120689655172413\n",
            "specificity \t 0.9420660752833243\n",
            "F1-score \t 0.23036755386565275\n"
          ]
        }
      ]
    },
    {
      "cell_type": "code",
      "source": [
        "plt.plot(history.history['loss'])\n",
        "plt.plot(history.history['val_loss'])\n",
        "plt.title('Model loss')\n",
        "plt.ylabel('Loss')\n",
        "plt.xlabel('Epoch')\n",
        "plt.legend(['Train', 'Val'], loc='upper right')\n",
        "plt.show()"
      ],
      "metadata": {
        "colab": {
          "base_uri": "https://localhost:8080/",
          "height": 294
        },
        "id": "-Osdi77glIjd",
        "outputId": "5608af3c-aa7b-4a7d-ce5d-955794850a73"
      },
      "execution_count": null,
      "outputs": [
        {
          "output_type": "display_data",
          "data": {
            "image/png": "[encoded data removed]",
            "text/plain": [
              "<Figure size 432x288 with 1 Axes>"
            ]
          },
          "metadata": {
            "needs_background": "light"
          }
        }
      ]
    },
    {
      "cell_type": "code",
      "source": [
        "plt.plot(history.history['accuracy'])\n",
        "plt.plot(history.history['val_accuracy'])\n",
        "plt.title('Model accuracy')\n",
        "plt.ylabel('Accuracy')\n",
        "plt.xlabel('Epoch')\n",
        "plt.legend(['Train', 'Val'], loc='lower right')\n",
        "plt.show()"
      ],
      "metadata": {
        "colab": {
          "base_uri": "https://localhost:8080/",
          "height": 294
        },
        "id": "D4nHwzJblNP3",
        "outputId": "11069209-3738-4bb2-aa4a-0abafc232be0"
      },
      "execution_count": null,
      "outputs": [
        {
          "output_type": "display_data",
          "data": {
            "image/png": "[encoded data removed]",
            "text/plain": [
              "<Figure size 432x288 with 1 Axes>"
            ]
          },
          "metadata": {
            "needs_background": "light"
          }
        }
      ]
    },
    {
      "cell_type": "markdown",
      "source": [
        "**multi-view**"
      ],
      "metadata": {
        "id": "U9XFlx3JmB2q"
      }
    },
    {
      "cell_type": "code",
      "source": [
        "test_id, train_id, path_list = generatePathList(patients,test_size=0.3) # 30% test_size \n",
        "train_data =  DataGenerator(train_id, path_list)\n",
        "test_data  =  DataGenerator(test_id, path_list)"
      ],
      "metadata": {
        "id": "IamqRQ_Ul9XV"
      },
      "execution_count": null,
      "outputs": []
    },
    {
      "cell_type": "code",
      "source": [
        "len(test_data)"
      ],
      "metadata": {
        "colab": {
          "base_uri": "https://localhost:8080/"
        },
        "id": "-LBRSS7Zmoji",
        "outputId": "942a1d37-579f-46b8-86b5-02bca056856d"
      },
      "execution_count": null,
      "outputs": [
        {
          "output_type": "execute_result",
          "data": {
            "text/plain": [
              "15088"
            ]
          },
          "metadata": {},
          "execution_count": 22
        }
      ]
    },
    {
      "cell_type": "code",
      "source": [
        "len(train_data)"
      ],
      "metadata": {
        "colab": {
          "base_uri": "https://localhost:8080/"
        },
        "id": "P_AbPudWmqgQ",
        "outputId": "8e6591ff-ac89-4c10-a1eb-09993ce358a1"
      },
      "execution_count": null,
      "outputs": [
        {
          "output_type": "execute_result",
          "data": {
            "text/plain": [
              "35248"
            ]
          },
          "metadata": {},
          "execution_count": 23
        }
      ]
    },
    {
      "cell_type": "code",
      "source": [
        "from tensorflow.keras.callbacks import EarlyStopping\n",
        "early_stop = EarlyStopping(monitor='val_loss', patience=100)"
      ],
      "metadata": {
        "id": "rlLHDKBXmtkr"
      },
      "execution_count": null,
      "outputs": []
    },
    {
      "cell_type": "code",
      "source": [
        "history = model.fit(train_data, epochs= 10, verbose=1, callbacks=[early_stop], steps_per_epoch=None, \n",
        "                    validation_data=test_data, class_weight={0:1, 1:50}, workers=4, use_multiprocessing=True,\n",
        "                    shuffle=False, initial_epoch=0)"
      ],
      "metadata": {
        "colab": {
          "base_uri": "https://localhost:8080/"
        },
        "id": "wA3a_6x7m0Ve",
        "outputId": "bff867b4-ec00-45b3-b076-3a30b7d650fd"
      },
      "execution_count": null,
      "outputs": [
        {
          "output_type": "stream",
          "name": "stdout",
          "text": [
            "Epoch 1/10\n",
            "35248/35248 [==============================] - 774s 22ms/step - loss: 0.2003 - accuracy: 0.9727 - sen: 0.9575 - val_loss: 0.1385 - val_accuracy: 0.9643 - val_sen: 0.5544\n",
            "Epoch 2/10\n",
            "35248/35248 [==============================] - 749s 21ms/step - loss: 0.1569 - accuracy: 0.9805 - sen: 0.9630 - val_loss: 0.0489 - val_accuracy: 0.9875 - val_sen: 0.4621\n",
            "Epoch 3/10\n",
            "35248/35248 [==============================] - 750s 21ms/step - loss: 0.1277 - accuracy: 0.9849 - sen: 0.9705 - val_loss: 0.0558 - val_accuracy: 0.9841 - val_sen: 0.5118\n",
            "Epoch 4/10\n",
            "35248/35248 [==============================] - 757s 21ms/step - loss: 0.1099 - accuracy: 0.9862 - sen: 0.9750 - val_loss: 0.0592 - val_accuracy: 0.9844 - val_sen: 0.5954\n",
            "Epoch 5/10\n",
            "35248/35248 [==============================] - 749s 21ms/step - loss: 0.0927 - accuracy: 0.9879 - sen: 0.9794 - val_loss: 0.0601 - val_accuracy: 0.9850 - val_sen: 0.6040\n",
            "Epoch 6/10\n",
            "35248/35248 [==============================] - 753s 21ms/step - loss: 0.0850 - accuracy: 0.9875 - sen: 0.9820 - val_loss: 0.0658 - val_accuracy: 0.9822 - val_sen: 0.5935\n",
            "Epoch 7/10\n",
            "35248/35248 [==============================] - 754s 21ms/step - loss: 0.0802 - accuracy: 0.9878 - sen: 0.9833 - val_loss: 0.0736 - val_accuracy: 0.9826 - val_sen: 0.6126\n",
            "Epoch 8/10\n",
            "35248/35248 [==============================] - 764s 22ms/step - loss: 0.0711 - accuracy: 0.9890 - sen: 0.9857 - val_loss: 0.0717 - val_accuracy: 0.9841 - val_sen: 0.6169\n",
            "Epoch 9/10\n",
            "35248/35248 [==============================] - 787s 22ms/step - loss: 0.0725 - accuracy: 0.9882 - sen: 0.9847 - val_loss: 0.0596 - val_accuracy: 0.9869 - val_sen: 0.5696\n",
            "Epoch 10/10\n",
            "35248/35248 [==============================] - 784s 22ms/step - loss: 0.0641 - accuracy: 0.9890 - sen: 0.9868 - val_loss: 0.0643 - val_accuracy: 0.9866 - val_sen: 0.5997\n"
          ]
        }
      ]
    },
    {
      "cell_type": "code",
      "source": [
        "model.save_weights('/content/drive/MyDrive/eeg_frequency_domain_image/model_weights_time_chb03_mix.h5')\n",
        "model.save('/content/drive/MyDrive/eeg_frequency_domain_image/model_keras_time_chb03_mix.h5')"
      ],
      "metadata": {
        "id": "NXk5F_KTXsAO"
      },
      "execution_count": null,
      "outputs": []
    },
    {
      "cell_type": "code",
      "source": [
        "model.evaluate(test_data, batch_size=32)"
      ],
      "metadata": {
        "colab": {
          "base_uri": "https://localhost:8080/"
        },
        "id": "wblwB8qGXzgP",
        "outputId": "03486ad0-9197-4dc1-ffcd-100a5c82d355"
      },
      "execution_count": null,
      "outputs": [
        {
          "output_type": "stream",
          "name": "stdout",
          "text": [
            "15088/15088 [==============================] - 191s 13ms/step - loss: 0.0643 - accuracy: 0.9866 - sen: 0.5997\n"
          ]
        },
        {
          "output_type": "execute_result",
          "data": {
            "text/plain": [
              "[0.06428675353527069, 0.9866119027137756, 0.5997310280799866]"
            ]
          },
          "metadata": {},
          "execution_count": 27
        }
      ]
    },
    {
      "cell_type": "code",
      "source": [
        "y_pred = model.predict(test_data)\n",
        "y_pred = np.round(y_pred).astype(int)\n",
        "y_val = []\n",
        "for i in range(len(test_data)):\n",
        "  list_val = list(test_data[i])\n",
        "  y_val = np.hstack((y_val,list_val[1]))"
      ],
      "metadata": {
        "id": "huZV8GdcX2l6"
      },
      "execution_count": null,
      "outputs": []
    },
    {
      "cell_type": "code",
      "source": [
        "tn, fp, fn, tp = confusion_matrix(y_val, y_pred).ravel()\n",
        "print('accuracy \\t', accuracy_score(y_val, y_pred))\n",
        "sensitivity = int(tp)/int(tp+fn)\n",
        "print('sensitivity \\t', sensitivity)\n",
        "specificity = int(tn)/int(fp+tn)\n",
        "print('specificity \\t', specificity)\n",
        "print('F1-score \\t', f1_score(y_val, y_pred))"
      ],
      "metadata": {
        "colab": {
          "base_uri": "https://localhost:8080/"
        },
        "id": "Tji_ZX6zX5eV",
        "outputId": "ef73a6ec-2ab0-4091-e799-982fe3a4e5f4"
      },
      "execution_count": null,
      "outputs": [
        {
          "output_type": "stream",
          "name": "stdout",
          "text": [
            "accuracy \t 0.9866118769883351\n",
            "sensitivity \t 0.5997310020174849\n",
            "specificity \t 0.9926627273702567\n",
            "F1-score \t 0.5797685606553113\n"
          ]
        }
      ]
    },
    {
      "cell_type": "code",
      "source": [
        "plt.plot(history.history['loss'])\n",
        "plt.plot(history.history['val_loss'])\n",
        "plt.title('Model loss')\n",
        "plt.ylabel('Loss')\n",
        "plt.xlabel('Epoch')\n",
        "plt.legend(['Train', 'Val'], loc='upper right')\n",
        "plt.show()"
      ],
      "metadata": {
        "colab": {
          "base_uri": "https://localhost:8080/",
          "height": 294
        },
        "id": "MFAZ--UEX8jd",
        "outputId": "890d4ad6-5900-4624-b12e-039ef67de8dd"
      },
      "execution_count": null,
      "outputs": [
        {
          "output_type": "display_data",
          "data": {
            "image/png": "[encoded data removed]",
            "text/plain": [
              "<Figure size 432x288 with 1 Axes>"
            ]
          },
          "metadata": {
            "needs_background": "light"
          }
        }
      ]
    },
    {
      "cell_type": "code",
      "source": [
        "plt.plot(history.history['accuracy'])\n",
        "plt.plot(history.history['val_accuracy'])\n",
        "plt.title('Model accuracy')\n",
        "plt.ylabel('Accuracy')\n",
        "plt.xlabel('Epoch')\n",
        "plt.legend(['Train', 'Val'], loc='lower right')\n",
        "plt.show()"
      ],
      "metadata": {
        "colab": {
          "base_uri": "https://localhost:8080/",
          "height": 294
        },
        "id": "uXrPKG-6X_Wt",
        "outputId": "a4f538f9-dd01-4236-d9e7-31256ce332cf"
      },
      "execution_count": null,
      "outputs": [
        {
          "output_type": "display_data",
          "data": {
            "image/png": "[encoded data removed]",
            "text/plain": [
              "<Figure size 432x288 with 1 Axes>"
            ]
          },
          "metadata": {
            "needs_background": "light"
          }
        }
      ]
    }
  ]
}